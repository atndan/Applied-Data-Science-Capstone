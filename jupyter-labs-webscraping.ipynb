{
 "cells":[
  {
   "cell_type":"markdown",
   "source":[
    "<center>\n",
    "    <img src=\"https:\/\/gitlab.com\/ibm\/skills-network\/courses\/placeholder101\/-\/raw\/master\/labs\/module%201\/images\/IDSNlogo.png\" width=\"300\" alt=\"cognitiveclass.ai logo\"  \/>\n",
    "<\/center>"
   ],
   "attachments":{
    
   },
   "metadata":{
    "datalore":{
     "type":"MD",
     "hide_input_from_viewers":false,
     "hide_output_from_viewers":false
    }
   }
  },
  {
   "cell_type":"markdown",
   "source":[
    "# **Space X  Falcon 9 First Stage Landing Prediction**"
   ],
   "attachments":{
    
   },
   "metadata":{
    "datalore":{
     "type":"MD",
     "hide_input_from_viewers":false,
     "hide_output_from_viewers":false
    }
   }
  },
  {
   "cell_type":"markdown",
   "source":[
    "## Web scraping Falcon 9 and Falcon Heavy Launches Records from Wikipedia"
   ],
   "attachments":{
    
   },
   "metadata":{
    "datalore":{
     "type":"MD",
     "hide_input_from_viewers":false,
     "hide_output_from_viewers":false
    }
   }
  },
  {
   "cell_type":"markdown",
   "source":[
    "Estimated time needed: **40** minutes"
   ],
   "attachments":{
    
   },
   "metadata":{
    "datalore":{
     "type":"MD",
     "hide_input_from_viewers":false,
     "hide_output_from_viewers":false
    }
   }
  },
  {
   "cell_type":"markdown",
   "source":[
    "In this lab, you will be performing web scraping to collect Falcon 9 historical launch records from a Wikipedia page titled `List of Falcon 9 and Falcon Heavy launches`\n",
    "\n",
    "[https:\/\/en.wikipedia.org\/wiki\/List_of_Falcon\\_9\\_and_Falcon_Heavy_launches](https:\/\/en.wikipedia.org\/wiki\/List_of_Falcon\\_9\\_and_Falcon_Heavy_launches?utm_medium=Exinfluencer&utm_source=Exinfluencer&utm_content=000026UJ&utm_term=10006555&utm_id=NA-SkillsNetwork-Channel-SkillsNetworkCoursesIBMDS0321ENSkillsNetwork26802033-2021-01-01)"
   ],
   "attachments":{
    
   },
   "metadata":{
    "datalore":{
     "type":"MD",
     "hide_input_from_viewers":false,
     "hide_output_from_viewers":false
    }
   }
  },
  {
   "cell_type":"markdown",
   "source":[
    "![](https:\/\/cf-courses-data.s3.us.cloud-object-storage.appdomain.cloud\/IBM-DS0321EN-SkillsNetwork\/labs\/module\\_1\\_L2\/images\/Falcon9\\_rocket_family.svg)"
   ],
   "attachments":{
    
   },
   "metadata":{
    "datalore":{
     "type":"MD",
     "hide_input_from_viewers":false,
     "hide_output_from_viewers":false
    }
   }
  },
  {
   "cell_type":"markdown",
   "source":[
    "Falcon 9 first stage will land successfully"
   ],
   "attachments":{
    
   },
   "metadata":{
    "datalore":{
     "type":"MD",
     "hide_input_from_viewers":false,
     "hide_output_from_viewers":false
    }
   }
  },
  {
   "cell_type":"markdown",
   "source":[
    "![](https:\/\/cf-courses-data.s3.us.cloud-object-storage.appdomain.cloud\/IBMDeveloperSkillsNetwork-DS0701EN-SkillsNetwork\/api\/Images\/landing\\_1.gif)"
   ],
   "attachments":{
    
   },
   "metadata":{
    "datalore":{
     "type":"MD",
     "hide_input_from_viewers":false,
     "hide_output_from_viewers":false
    }
   }
  },
  {
   "cell_type":"markdown",
   "source":[
    "Several examples of an unsuccessful landing are shown here:"
   ],
   "attachments":{
    
   },
   "metadata":{
    "datalore":{
     "type":"MD",
     "hide_input_from_viewers":false,
     "hide_output_from_viewers":false
    }
   }
  },
  {
   "cell_type":"markdown",
   "source":[
    "![](https:\/\/cf-courses-data.s3.us.cloud-object-storage.appdomain.cloud\/IBMDeveloperSkillsNetwork-DS0701EN-SkillsNetwork\/api\/Images\/crash.gif)"
   ],
   "attachments":{
    
   },
   "metadata":{
    "datalore":{
     "type":"MD",
     "hide_input_from_viewers":false,
     "hide_output_from_viewers":false
    }
   }
  },
  {
   "cell_type":"markdown",
   "source":[
    "More specifically, the launch records are stored in a HTML table shown below:"
   ],
   "attachments":{
    
   },
   "metadata":{
    "datalore":{
     "type":"MD",
     "hide_input_from_viewers":false,
     "hide_output_from_viewers":false
    }
   }
  },
  {
   "cell_type":"markdown",
   "source":[
    "![](https:\/\/cf-courses-data.s3.us.cloud-object-storage.appdomain.cloud\/IBM-DS0321EN-SkillsNetwork\/labs\/module\\_1\\_L2\/images\/falcon9-launches-wiki.png)"
   ],
   "attachments":{
    
   },
   "metadata":{
    "datalore":{
     "type":"MD",
     "hide_input_from_viewers":false,
     "hide_output_from_viewers":false
    }
   }
  },
  {
   "cell_type":"markdown",
   "source":[
    "## Objectives\n",
    "\n",
    "Web scrap Falcon 9 launch records with `BeautifulSoup`:\n",
    "\n",
    "*   Extract a Falcon 9 launch records HTML table from Wikipedia\n",
    "*   Parse the table and convert it into a Pandas data frame"
   ],
   "attachments":{
    
   },
   "metadata":{
    "datalore":{
     "type":"MD",
     "hide_input_from_viewers":false,
     "hide_output_from_viewers":false
    }
   }
  },
  {
   "cell_type":"markdown",
   "source":[
    "First let's import required packages for this lab"
   ],
   "attachments":{
    
   },
   "metadata":{
    "datalore":{
     "type":"MD",
     "hide_input_from_viewers":false,
     "hide_output_from_viewers":false
    }
   }
  },
  {
   "cell_type":"code",
   "source":[
    "!pip3 install beautifulsoup4\n",
    "!pip3 install requests"
   ],
   "execution_count":2,
   "outputs":[
    {
     "name":"stdout",
     "text":[
      "Requirement already satisfied: beautifulsoup4 in \/opt\/python\/envs\/default\/lib\/python3.8\/site-packages (4.11.1)\r\n",
      "Requirement already satisfied: soupsieve>1.2 in \/opt\/python\/envs\/default\/lib\/python3.8\/site-packages (from beautifulsoup4) (2.3.2.post1)\r\n",
      "\u001b[33mWARNING: You are using pip version 21.3.1; however, version 22.1 is available.\r\n",
      "You should consider upgrading via the '\/opt\/python\/envs\/default\/bin\/python -m pip install --upgrade pip' command.\u001b[0m\r\n",
      "Requirement already satisfied: requests in \/opt\/python\/envs\/default\/lib\/python3.8\/site-packages (2.26.0)\r\n",
      "Requirement already satisfied: idna<4,>=2.5 in \/opt\/python\/envs\/default\/lib\/python3.8\/site-packages (from requests) (3.3)\r\n",
      "Requirement already satisfied: certifi>=2017.4.17 in \/opt\/python\/envs\/default\/lib\/python3.8\/site-packages (from requests) (2021.10.8)\r\n",
      "Requirement already satisfied: charset-normalizer~=2.0.0 in \/opt\/python\/envs\/default\/lib\/python3.8\/site-packages (from requests) (2.0.12)\r\n",
      "Requirement already satisfied: urllib3<1.27,>=1.21.1 in \/opt\/python\/envs\/default\/lib\/python3.8\/site-packages (from requests) (1.26.9)\r\n",
      "\u001b[33mWARNING: You are using pip version 21.3.1; however, version 22.1 is available.\r\n",
      "You should consider upgrading via the '\/opt\/python\/envs\/default\/bin\/python -m pip install --upgrade pip' command.\u001b[0m\r\n"
     ],
     "output_type":"stream"
    }
   ],
   "metadata":{
    "datalore":{
     "type":"CODE",
     "hide_input_from_viewers":false,
     "hide_output_from_viewers":false
    }
   }
  },
  {
   "cell_type":"code",
   "source":[
    "import sys\n",
    "\n",
    "import requests\n",
    "from bs4 import BeautifulSoup\n",
    "import re\n",
    "import unicodedata\n",
    "import pandas as pd"
   ],
   "execution_count":3,
   "outputs":[
    
   ],
   "metadata":{
    "datalore":{
     "type":"CODE",
     "hide_input_from_viewers":false,
     "hide_output_from_viewers":false
    }
   }
  },
  {
   "cell_type":"markdown",
   "source":[
    "and we will provide some helper functions for you to process web scraped HTML table"
   ],
   "attachments":{
    
   },
   "metadata":{
    "datalore":{
     "type":"MD",
     "hide_input_from_viewers":false,
     "hide_output_from_viewers":false
    }
   }
  },
  {
   "cell_type":"code",
   "source":[
    "def date_time(table_cells):\n",
    "    \"\"\"\n",
    "    This function returns the data and time from the HTML  table cell\n",
    "    Input: the  element of a table data cell extracts extra row\n",
    "    \"\"\"\n",
    "    return [data_time.strip() for data_time in list(table_cells.strings)][0:2]\n",
    "\n",
    "def booster_version(table_cells):\n",
    "    \"\"\"\n",
    "    This function returns the booster version from the HTML  table cell \n",
    "    Input: the  element of a table data cell extracts extra row\n",
    "    \"\"\"\n",
    "    out=''.join([booster_version for i,booster_version in enumerate( table_cells.strings) if i%2==0][0:-1])\n",
    "    return out\n",
    "\n",
    "def landing_status(table_cells):\n",
    "    \"\"\"\n",
    "    This function returns the landing status from the HTML table cell \n",
    "    Input: the  element of a table data cell extracts extra row\n",
    "    \"\"\"\n",
    "    out=[i for i in table_cells.strings][0]\n",
    "    return out\n",
    "\n",
    "\n",
    "def get_mass(table_cells):\n",
    "    mass=unicodedata.normalize(\"NFKD\", table_cells.text).strip()\n",
    "    if mass:\n",
    "        mass.find(\"kg\")\n",
    "        new_mass=mass[0:mass.find(\"kg\")+2]\n",
    "    else:\n",
    "        new_mass=0\n",
    "    return new_mass\n",
    "\n",
    "\n",
    "def extract_column_from_header(row):\n",
    "    \"\"\"\n",
    "    This function returns the landing status from the HTML table cell \n",
    "    Input: the  element of a table data cell extracts extra row\n",
    "    \"\"\"\n",
    "    if (row.br):\n",
    "        row.br.extract()\n",
    "    if row.a:\n",
    "        row.a.extract()\n",
    "    if row.sup:\n",
    "        row.sup.extract()\n",
    "        \n",
    "    colunm_name = ' '.join(row.contents)\n",
    "    \n",
    "    # Filter the digit and empty names\n",
    "    if not(colunm_name.strip().isdigit()):\n",
    "        colunm_name = colunm_name.strip()\n",
    "        return colunm_name    "
   ],
   "execution_count":4,
   "outputs":[
    
   ],
   "metadata":{
    "datalore":{
     "type":"CODE",
     "hide_input_from_viewers":false,
     "hide_output_from_viewers":false
    }
   }
  },
  {
   "cell_type":"markdown",
   "source":[
    "To keep the lab tasks consistent, you will be asked to scrape the data from a snapshot of the  `List of Falcon 9 and Falcon Heavy launches` Wikipage updated on\n",
    "`9th June 2021`"
   ],
   "attachments":{
    
   },
   "metadata":{
    "datalore":{
     "type":"MD",
     "hide_input_from_viewers":false,
     "hide_output_from_viewers":false
    }
   }
  },
  {
   "cell_type":"code",
   "source":[
    "static_url = \"https:\/\/en.wikipedia.org\/w\/index.php?title=List_of_Falcon_9_and_Falcon_Heavy_launches&oldid=1027686922\""
   ],
   "execution_count":5,
   "outputs":[
    
   ],
   "metadata":{
    "datalore":{
     "type":"CODE",
     "hide_input_from_viewers":false,
     "hide_output_from_viewers":false
    }
   }
  },
  {
   "cell_type":"markdown",
   "source":[
    "Next, request the HTML page from the above URL and get a `response` object"
   ],
   "attachments":{
    
   },
   "metadata":{
    "datalore":{
     "type":"MD",
     "hide_input_from_viewers":false,
     "hide_output_from_viewers":false
    }
   }
  },
  {
   "cell_type":"markdown",
   "source":[
    "### TASK 1: Request the Falcon9 Launch Wiki page from its URL"
   ],
   "attachments":{
    
   },
   "metadata":{
    "datalore":{
     "type":"MD",
     "hide_input_from_viewers":false,
     "hide_output_from_viewers":false
    }
   }
  },
  {
   "cell_type":"markdown",
   "source":[
    "First, let's perform an HTTP GET method to request the Falcon9 Launch HTML page, as an HTTP response."
   ],
   "attachments":{
    
   },
   "metadata":{
    "datalore":{
     "type":"MD",
     "hide_input_from_viewers":false,
     "hide_output_from_viewers":false
    }
   }
  },
  {
   "cell_type":"code",
   "source":[
    "# use requests.get() method with the provided static_url\n",
    "# assign the response to a object\n",
    "\n",
    "rq = requests.get(static_url)"
   ],
   "execution_count":6,
   "outputs":[
    
   ],
   "metadata":{
    "datalore":{
     "type":"CODE",
     "hide_input_from_viewers":false,
     "hide_output_from_viewers":false
    }
   }
  },
  {
   "cell_type":"markdown",
   "source":[
    "Create a `BeautifulSoup` object from the HTML `response`"
   ],
   "attachments":{
    
   },
   "metadata":{
    "datalore":{
     "type":"MD",
     "hide_input_from_viewers":false,
     "hide_output_from_viewers":false
    }
   }
  },
  {
   "cell_type":"code",
   "source":[
    "# Use BeautifulSoup() to create a BeautifulSoup object from a response text content\n",
    "soup = BeautifulSoup(rq.content, \"html.parser\")"
   ],
   "execution_count":7,
   "outputs":[
    
   ],
   "metadata":{
    "datalore":{
     "type":"CODE",
     "hide_input_from_viewers":false,
     "hide_output_from_viewers":false
    }
   }
  },
  {
   "cell_type":"markdown",
   "source":[
    "Print the page title to verify if the `BeautifulSoup` object was created properly"
   ],
   "attachments":{
    
   },
   "metadata":{
    "datalore":{
     "type":"MD",
     "hide_input_from_viewers":false,
     "hide_output_from_viewers":false
    }
   }
  },
  {
   "cell_type":"code",
   "source":[
    "# Use soup.title attribute\n",
    "soup.title"
   ],
   "execution_count":8,
   "outputs":[
    {
     "data":{
      "text\/plain":[
       "<title>List of Falcon 9 and Falcon Heavy launches - Wikipedia<\/title>"
      ]
     },
     "metadata":{
      
     },
     "output_type":"display_data"
    }
   ],
   "metadata":{
    "datalore":{
     "type":"CODE",
     "hide_input_from_viewers":false,
     "hide_output_from_viewers":false
    }
   }
  },
  {
   "cell_type":"markdown",
   "source":[
    "### TASK 2: Extract all column\/variable names from the HTML table header"
   ],
   "attachments":{
    
   },
   "metadata":{
    "datalore":{
     "type":"MD",
     "hide_input_from_viewers":false,
     "hide_output_from_viewers":false
    }
   }
  },
  {
   "cell_type":"markdown",
   "source":[
    "Next, we want to collect all relevant column names from the HTML table header"
   ],
   "attachments":{
    
   },
   "metadata":{
    "datalore":{
     "type":"MD",
     "hide_input_from_viewers":false,
     "hide_output_from_viewers":false
    }
   }
  },
  {
   "cell_type":"markdown",
   "source":[
    "Let's try to find all tables on the wiki page first. If you need to refresh your memory about `BeautifulSoup`, please check the external reference link towards the end of this lab"
   ],
   "attachments":{
    
   },
   "metadata":{
    "datalore":{
     "type":"MD",
     "hide_input_from_viewers":false,
     "hide_output_from_viewers":false
    }
   }
  },
  {
   "cell_type":"code",
   "source":[
    "# Use the find_all function in the BeautifulSoup object, with element type `table`\n",
    "# Assign the result to a list called `html_tables`\n",
    "html_tables = soup.find_all(\"table\")"
   ],
   "execution_count":9,
   "outputs":[
    
   ],
   "metadata":{
    "datalore":{
     "type":"CODE",
     "hide_input_from_viewers":false,
     "hide_output_from_viewers":false
    }
   }
  },
  {
   "cell_type":"markdown",
   "source":[
    "Starting from the third table is our target table contains the actual launch records."
   ],
   "attachments":{
    
   },
   "metadata":{
    "datalore":{
     "type":"MD",
     "hide_input_from_viewers":false,
     "hide_output_from_viewers":false
    }
   }
  },
  {
   "cell_type":"code",
   "source":[
    "# Let's print the third table and check its content\n",
    "first_launch_table = html_tables[2]\n",
    "print(first_launch_table)"
   ],
   "execution_count":10,
   "outputs":[
    {
     "name":"stdout",
     "text":[
      "<table class=\"wikitable plainrowheaders collapsible\" style=\"width: 100%;\">\n",
      "<tbody><tr>\n",
      "<th scope=\"col\">Flight No.\n",
      "<\/th>\n",
      "<th scope=\"col\">Date and<br\/>time (<a href=\"\/wiki\/Coordinated_Universal_Time\" title=\"Coordinated Universal Time\">UTC<\/a>)\n",
      "<\/th>\n",
      "<th scope=\"col\"><a href=\"\/wiki\/List_of_Falcon_9_first-stage_boosters\" title=\"List of Falcon 9 first-stage boosters\">Version,<br\/>Booster<\/a> <sup class=\"reference\" id=\"cite_ref-booster_11-0\"><a href=\"#cite_note-booster-11\">[b]<\/a><\/sup>\n",
      "<\/th>\n",
      "<th scope=\"col\">Launch site\n",
      "<\/th>\n",
      "<th scope=\"col\">Payload<sup class=\"reference\" id=\"cite_ref-Dragon_12-0\"><a href=\"#cite_note-Dragon-12\">[c]<\/a><\/sup>\n",
      "<\/th>\n",
      "<th scope=\"col\">Payload mass\n",
      "<\/th>\n",
      "<th scope=\"col\">Orbit\n",
      "<\/th>\n",
      "<th scope=\"col\">Customer\n",
      "<\/th>\n",
      "<th scope=\"col\">Launch<br\/>outcome\n",
      "<\/th>\n",
      "<th scope=\"col\"><a href=\"\/wiki\/Falcon_9_first-stage_landing_tests\" title=\"Falcon 9 first-stage landing tests\">Booster<br\/>landing<\/a>\n",
      "<\/th><\/tr>\n",
      "<tr>\n",
      "<th rowspan=\"2\" scope=\"row\" style=\"text-align:center;\">1\n",
      "<\/th>\n",
      "<td>4 June 2010,<br\/>18:45\n",
      "<\/td>\n",
      "<td><a href=\"\/wiki\/Falcon_9_v1.0\" title=\"Falcon 9 v1.0\">F9 v1.0<\/a><sup class=\"reference\" id=\"cite_ref-MuskMay2012_13-0\"><a href=\"#cite_note-MuskMay2012-13\">[7]<\/a><\/sup><br\/>B0003.1<sup class=\"reference\" id=\"cite_ref-block_numbers_14-0\"><a href=\"#cite_note-block_numbers-14\">[8]<\/a><\/sup>\n",
      "<\/td>\n",
      "<td><a href=\"\/wiki\/Cape_Canaveral_Space_Force_Station\" title=\"Cape Canaveral Space Force Station\">CCAFS<\/a>,<br\/><a href=\"\/wiki\/Cape_Canaveral_Space_Launch_Complex_40\" title=\"Cape Canaveral Space Launch Complex 40\">SLC-40<\/a>\n",
      "<\/td>\n",
      "<td><a href=\"\/wiki\/Dragon_Spacecraft_Qualification_Unit\" title=\"Dragon Spacecraft Qualification Unit\">Dragon Spacecraft Qualification Unit<\/a>\n",
      "<\/td>\n",
      "<td>\n",
      "<\/td>\n",
      "<td><a href=\"\/wiki\/Low_Earth_orbit\" title=\"Low Earth orbit\">LEO<\/a>\n",
      "<\/td>\n",
      "<td><a href=\"\/wiki\/SpaceX\" title=\"SpaceX\">SpaceX<\/a>\n",
      "<\/td>\n",
      "<td class=\"table-success\" style=\"background: #9EFF9E; vertical-align: middle; text-align: center;\">Success\n",
      "<\/td>\n",
      "<td class=\"table-failure\" style=\"background: #FFC7C7; vertical-align: middle; text-align: center;\">Failure<sup class=\"reference\" id=\"cite_ref-ns20110930_15-0\"><a href=\"#cite_note-ns20110930-15\">[9]<\/a><\/sup><sup class=\"reference\" id=\"cite_ref-16\"><a href=\"#cite_note-16\">[10]<\/a><\/sup><br\/><small>(parachute)<\/small>\n",
      "<\/td><\/tr>\n",
      "<tr>\n",
      "<td colspan=\"9\">First flight of Falcon 9 v1.0.<sup class=\"reference\" id=\"cite_ref-sfn20100604_17-0\"><a href=\"#cite_note-sfn20100604-17\">[11]<\/a><\/sup> Used a boilerplate version of Dragon capsule which was not designed to separate from the second stage.<small>(<a href=\"#First_flight_of_Falcon_9\">more details below<\/a>)<\/small> Attempted to recover the first stage by parachuting it into the ocean, but it burned up on reentry, before the parachutes even deployed.<sup class=\"reference\" id=\"cite_ref-parachute_18-0\"><a href=\"#cite_note-parachute-18\">[12]<\/a><\/sup>\n",
      "<\/td><\/tr>\n",
      "<tr>\n",
      "<th rowspan=\"2\" scope=\"row\" style=\"text-align:center;\">2\n",
      "<\/th>\n",
      "<td>8 December 2010,<br\/>15:43<sup class=\"reference\" id=\"cite_ref-spaceflightnow_Clark_Launch_Report_19-0\"><a href=\"#cite_note-spaceflightnow_Clark_Launch_Report-19\">[13]<\/a><\/sup>\n",
      "<\/td>\n",
      "<td><a href=\"\/wiki\/Falcon_9_v1.0\" title=\"Falcon 9 v1.0\">F9 v1.0<\/a><sup class=\"reference\" id=\"cite_ref-MuskMay2012_13-1\"><a href=\"#cite_note-MuskMay2012-13\">[7]<\/a><\/sup><br\/>B0004.1<sup class=\"reference\" id=\"cite_ref-block_numbers_14-1\"><a href=\"#cite_note-block_numbers-14\">[8]<\/a><\/sup>\n",
      "<\/td>\n",
      "<td><a href=\"\/wiki\/Cape_Canaveral_Space_Force_Station\" title=\"Cape Canaveral Space Force Station\">CCAFS<\/a>,<br\/><a href=\"\/wiki\/Cape_Canaveral_Space_Launch_Complex_40\" title=\"Cape Canaveral Space Launch Complex 40\">SLC-40<\/a>\n",
      "<\/td>\n",
      "<td><a href=\"\/wiki\/SpaceX_Dragon\" title=\"SpaceX Dragon\">Dragon<\/a> <a class=\"mw-redirect\" href=\"\/wiki\/COTS_Demo_Flight_1\" title=\"COTS Demo Flight 1\">demo flight C1<\/a><br\/>(Dragon C101)\n",
      "<\/td>\n",
      "<td>\n",
      "<\/td>\n",
      "<td><a href=\"\/wiki\/Low_Earth_orbit\" title=\"Low Earth orbit\">LEO<\/a> (<a href=\"\/wiki\/International_Space_Station\" title=\"International Space Station\">ISS<\/a>)\n",
      "<\/td>\n",
      "<td><div class=\"plainlist\">\n",
      "<ul><li><a href=\"\/wiki\/NASA\" title=\"NASA\">NASA<\/a> (<a href=\"\/wiki\/Commercial_Orbital_Transportation_Services\" title=\"Commercial Orbital Transportation Services\">COTS<\/a>)<\/li>\n",
      "<li><a href=\"\/wiki\/National_Reconnaissance_Office\" title=\"National Reconnaissance Office\">NRO<\/a><\/li><\/ul>\n",
      "<\/div>\n",
      "<\/td>\n",
      "<td class=\"table-success\" style=\"background: #9EFF9E; vertical-align: middle; text-align: center;\">Success<sup class=\"reference\" id=\"cite_ref-ns20110930_15-1\"><a href=\"#cite_note-ns20110930-15\">[9]<\/a><\/sup>\n",
      "<\/td>\n",
      "<td class=\"table-failure\" style=\"background: #FFC7C7; vertical-align: middle; text-align: center;\">Failure<sup class=\"reference\" id=\"cite_ref-ns20110930_15-2\"><a href=\"#cite_note-ns20110930-15\">[9]<\/a><\/sup><sup class=\"reference\" id=\"cite_ref-20\"><a href=\"#cite_note-20\">[14]<\/a><\/sup><br\/><small>(parachute)<\/small>\n",
      "<\/td><\/tr>\n",
      "<tr>\n",
      "<td colspan=\"9\">Maiden flight of <a class=\"mw-redirect\" href=\"\/wiki\/Dragon_capsule\" title=\"Dragon capsule\">Dragon capsule<\/a>, consisting of over 3 hours of testing thruster maneuvering and reentry.<sup class=\"reference\" id=\"cite_ref-spaceflightnow_Clark_unleashing_Dragon_21-0\"><a href=\"#cite_note-spaceflightnow_Clark_unleashing_Dragon-21\">[15]<\/a><\/sup> Attempted to recover the first stage by parachuting it into the ocean, but it disintegrated upon reentry, before the parachutes were deployed.<sup class=\"reference\" id=\"cite_ref-parachute_18-1\"><a href=\"#cite_note-parachute-18\">[12]<\/a><\/sup> <small>(<a href=\"#COTS_demo_missions\">more details below<\/a>)<\/small> It also included two <a href=\"\/wiki\/CubeSat\" title=\"CubeSat\">CubeSats<\/a>,<sup class=\"reference\" id=\"cite_ref-NRO_Taps_Boeing_for_Next_Batch_of_CubeSats_22-0\"><a href=\"#cite_note-NRO_Taps_Boeing_for_Next_Batch_of_CubeSats-22\">[16]<\/a><\/sup> and a wheel of <a href=\"\/wiki\/Brou%C3%A8re\" title=\"Brouère\">Brouère<\/a> cheese.\n",
      "<\/td><\/tr>\n",
      "<tr>\n",
      "<th rowspan=\"2\" scope=\"row\" style=\"text-align:center;\">3\n",
      "<\/th>\n",
      "<td>22 May 2012,<br\/>07:44<sup class=\"reference\" id=\"cite_ref-BBC_new_era_23-0\"><a href=\"#cite_note-BBC_new_era-23\">[17]<\/a><\/sup>\n",
      "<\/td>\n",
      "<td><a href=\"\/wiki\/Falcon_9_v1.0\" title=\"Falcon 9 v1.0\">F9 v1.0<\/a><sup class=\"reference\" id=\"cite_ref-MuskMay2012_13-2\"><a href=\"#cite_note-MuskMay2012-13\">[7]<\/a><\/sup><br\/>B0005.1<sup class=\"reference\" id=\"cite_ref-block_numbers_14-2\"><a href=\"#cite_note-block_numbers-14\">[8]<\/a><\/sup>\n",
      "<\/td>\n",
      "<td><a href=\"\/wiki\/Cape_Canaveral_Space_Force_Station\" title=\"Cape Canaveral Space Force Station\">CCAFS<\/a>,<br\/><a href=\"\/wiki\/Cape_Canaveral_Space_Launch_Complex_40\" title=\"Cape Canaveral Space Launch Complex 40\">SLC-40<\/a>\n",
      "<\/td>\n",
      "<td><a href=\"\/wiki\/SpaceX_Dragon\" title=\"SpaceX Dragon\">Dragon<\/a> <a class=\"mw-redirect\" href=\"\/wiki\/Dragon_C2%2B\" title=\"Dragon C2+\">demo flight C2+<\/a><sup class=\"reference\" id=\"cite_ref-C2_24-0\"><a href=\"#cite_note-C2-24\">[18]<\/a><\/sup><br\/>(Dragon C102)\n",
      "<\/td>\n",
      "<td>525 kg (1,157 lb)<sup class=\"reference\" id=\"cite_ref-25\"><a href=\"#cite_note-25\">[19]<\/a><\/sup>\n",
      "<\/td>\n",
      "<td><a href=\"\/wiki\/Low_Earth_orbit\" title=\"Low Earth orbit\">LEO<\/a> (<a href=\"\/wiki\/International_Space_Station\" title=\"International Space Station\">ISS<\/a>)\n",
      "<\/td>\n",
      "<td><a href=\"\/wiki\/NASA\" title=\"NASA\">NASA<\/a> (<a href=\"\/wiki\/Commercial_Orbital_Transportation_Services\" title=\"Commercial Orbital Transportation Services\">COTS<\/a>)\n",
      "<\/td>\n",
      "<td class=\"table-success\" style=\"background: #9EFF9E; vertical-align: middle; text-align: center;\">Success<sup class=\"reference\" id=\"cite_ref-26\"><a href=\"#cite_note-26\">[20]<\/a><\/sup>\n",
      "<\/td>\n",
      "<td class=\"table-noAttempt\" style=\"background: #EEE; vertical-align: middle; white-space: nowrap; text-align: center;\">No attempt\n",
      "<\/td><\/tr>\n",
      "<tr>\n",
      "<td colspan=\"9\">Dragon spacecraft demonstrated a series of tests before it was allowed to approach the <a href=\"\/wiki\/International_Space_Station\" title=\"International Space Station\">International Space Station<\/a>. Two days later, it became the first commercial spacecraft to board the ISS.<sup class=\"reference\" id=\"cite_ref-BBC_new_era_23-1\"><a href=\"#cite_note-BBC_new_era-23\">[17]<\/a><\/sup> <small>(<a href=\"#COTS_demo_missions\">more details below<\/a>)<\/small>\n",
      "<\/td><\/tr>\n",
      "<tr>\n",
      "<th rowspan=\"3\" scope=\"row\" style=\"text-align:center;\">4\n",
      "<\/th>\n",
      "<td rowspan=\"2\">8 October 2012,<br\/>00:35<sup class=\"reference\" id=\"cite_ref-SFN_LLog_27-0\"><a href=\"#cite_note-SFN_LLog-27\">[21]<\/a><\/sup>\n",
      "<\/td>\n",
      "<td rowspan=\"2\"><a href=\"\/wiki\/Falcon_9_v1.0\" title=\"Falcon 9 v1.0\">F9 v1.0<\/a><sup class=\"reference\" id=\"cite_ref-MuskMay2012_13-3\"><a href=\"#cite_note-MuskMay2012-13\">[7]<\/a><\/sup><br\/>B0006.1<sup class=\"reference\" id=\"cite_ref-block_numbers_14-3\"><a href=\"#cite_note-block_numbers-14\">[8]<\/a><\/sup>\n",
      "<\/td>\n",
      "<td rowspan=\"2\"><a href=\"\/wiki\/Cape_Canaveral_Space_Force_Station\" title=\"Cape Canaveral Space Force Station\">CCAFS<\/a>,<br\/><a href=\"\/wiki\/Cape_Canaveral_Space_Launch_Complex_40\" title=\"Cape Canaveral Space Launch Complex 40\">SLC-40<\/a>\n",
      "<\/td>\n",
      "<td><a href=\"\/wiki\/SpaceX_CRS-1\" title=\"SpaceX CRS-1\">SpaceX CRS-1<\/a><sup class=\"reference\" id=\"cite_ref-sxManifest20120925_28-0\"><a href=\"#cite_note-sxManifest20120925-28\">[22]<\/a><\/sup><br\/>(Dragon C103)\n",
      "<\/td>\n",
      "<td>4,700 kg (10,400 lb)\n",
      "<\/td>\n",
      "<td><a href=\"\/wiki\/Low_Earth_orbit\" title=\"Low Earth orbit\">LEO<\/a> (<a href=\"\/wiki\/International_Space_Station\" title=\"International Space Station\">ISS<\/a>)\n",
      "<\/td>\n",
      "<td><a href=\"\/wiki\/NASA\" title=\"NASA\">NASA<\/a> (<a href=\"\/wiki\/Commercial_Resupply_Services\" title=\"Commercial Resupply Services\">CRS<\/a>)\n",
      "<\/td>\n",
      "<td class=\"table-success\" style=\"background: #9EFF9E; vertical-align: middle; text-align: center;\">Success\n",
      "<\/td>\n",
      "<td rowspan=\"2\" style=\"background:#ececec; text-align:center;\"><span class=\"nowrap\">No attempt<\/span>\n",
      "<\/td><\/tr>\n",
      "<tr>\n",
      "<td><a href=\"\/wiki\/Orbcomm_(satellite)\" title=\"Orbcomm (satellite)\">Orbcomm-OG2<\/a><sup class=\"reference\" id=\"cite_ref-Orbcomm_29-0\"><a href=\"#cite_note-Orbcomm-29\">[23]<\/a><\/sup>\n",
      "<\/td>\n",
      "<td>172 kg (379 lb)<sup class=\"reference\" id=\"cite_ref-gunter-og2_30-0\"><a href=\"#cite_note-gunter-og2-30\">[24]<\/a><\/sup>\n",
      "<\/td>\n",
      "<td><a href=\"\/wiki\/Low_Earth_orbit\" title=\"Low Earth orbit\">LEO<\/a>\n",
      "<\/td>\n",
      "<td><a href=\"\/wiki\/Orbcomm\" title=\"Orbcomm\">Orbcomm<\/a>\n",
      "<\/td>\n",
      "<td class=\"table-partial\" style=\"background: #FE9; vertical-align: middle; text-align: center;\">Partial failure<sup class=\"reference\" id=\"cite_ref-nyt-20121030_31-0\"><a href=\"#cite_note-nyt-20121030-31\">[25]<\/a><\/sup>\n",
      "<\/td><\/tr>\n",
      "<tr>\n",
      "<td colspan=\"9\">CRS-1 was successful, but the <a href=\"\/wiki\/Secondary_payload\" title=\"Secondary payload\">secondary payload<\/a> was inserted into an abnormally low orbit and subsequently lost. This was due to one of the nine <a href=\"\/wiki\/SpaceX_Merlin\" title=\"SpaceX Merlin\">Merlin engines<\/a> shutting down during the launch, and NASA declining a second reignition, as per <a href=\"\/wiki\/International_Space_Station\" title=\"International Space Station\">ISS<\/a> visiting vehicle safety rules, the primary payload owner is contractually allowed to decline a second reignition. NASA stated that this was because SpaceX could not guarantee a high enough likelihood of the second stage completing the second burn successfully which was required to avoid any risk of secondary payload's collision with the ISS.<sup class=\"reference\" id=\"cite_ref-OrbcommTotalLoss_32-0\"><a href=\"#cite_note-OrbcommTotalLoss-32\">[26]<\/a><\/sup><sup class=\"reference\" id=\"cite_ref-sn20121011_33-0\"><a href=\"#cite_note-sn20121011-33\">[27]<\/a><\/sup><sup class=\"reference\" id=\"cite_ref-34\"><a href=\"#cite_note-34\">[28]<\/a><\/sup>\n",
      "<\/td><\/tr>\n",
      "<tr>\n",
      "<th rowspan=\"2\" scope=\"row\" style=\"text-align:center;\">5\n",
      "<\/th>\n",
      "<td>1 March 2013,<br\/>15:10\n",
      "<\/td>\n",
      "<td><a href=\"\/wiki\/Falcon_9_v1.0\" title=\"Falcon 9 v1.0\">F9 v1.0<\/a><sup class=\"reference\" id=\"cite_ref-MuskMay2012_13-4\"><a href=\"#cite_note-MuskMay2012-13\">[7]<\/a><\/sup><br\/>B0007.1<sup class=\"reference\" id=\"cite_ref-block_numbers_14-4\"><a href=\"#cite_note-block_numbers-14\">[8]<\/a><\/sup>\n",
      "<\/td>\n",
      "<td><a href=\"\/wiki\/Cape_Canaveral_Space_Force_Station\" title=\"Cape Canaveral Space Force Station\">CCAFS<\/a>,<br\/><a href=\"\/wiki\/Cape_Canaveral_Space_Launch_Complex_40\" title=\"Cape Canaveral Space Launch Complex 40\">SLC-40<\/a>\n",
      "<\/td>\n",
      "<td><a href=\"\/wiki\/SpaceX_CRS-2\" title=\"SpaceX CRS-2\">SpaceX CRS-2<\/a><sup class=\"reference\" id=\"cite_ref-sxManifest20120925_28-1\"><a href=\"#cite_note-sxManifest20120925-28\">[22]<\/a><\/sup><br\/>(Dragon C104)\n",
      "<\/td>\n",
      "<td>4,877 kg (10,752 lb)\n",
      "<\/td>\n",
      "<td><a href=\"\/wiki\/Low_Earth_orbit\" title=\"Low Earth orbit\">LEO<\/a> (<a class=\"mw-redirect\" href=\"\/wiki\/ISS\" title=\"ISS\">ISS<\/a>)\n",
      "<\/td>\n",
      "<td><a href=\"\/wiki\/NASA\" title=\"NASA\">NASA<\/a> (<a href=\"\/wiki\/Commercial_Resupply_Services\" title=\"Commercial Resupply Services\">CRS<\/a>)\n",
      "<\/td>\n",
      "<td class=\"table-success\" style=\"background: #9EFF9E; vertical-align: middle; text-align: center;\">Success\n",
      "<\/td>\n",
      "<td class=\"table-noAttempt\" style=\"background: #EEE; vertical-align: middle; white-space: nowrap; text-align: center;\">No attempt\n",
      "<\/td><\/tr>\n",
      "<tr>\n",
      "<td colspan=\"9\">Last launch of the original Falcon 9 v1.0 <a href=\"\/wiki\/Launch_vehicle\" title=\"Launch vehicle\">launch vehicle<\/a>, first use of the unpressurized trunk section of Dragon.<sup class=\"reference\" id=\"cite_ref-sxf9_20110321_35-0\"><a href=\"#cite_note-sxf9_20110321-35\">[29]<\/a><\/sup>\n",
      "<\/td><\/tr>\n",
      "<tr>\n",
      "<th rowspan=\"2\" scope=\"row\" style=\"text-align:center;\">6\n",
      "<\/th>\n",
      "<td>29 September 2013,<br\/>16:00<sup class=\"reference\" id=\"cite_ref-pa20130930_36-0\"><a href=\"#cite_note-pa20130930-36\">[30]<\/a><\/sup>\n",
      "<\/td>\n",
      "<td><a href=\"\/wiki\/Falcon_9_v1.1\" title=\"Falcon 9 v1.1\">F9 v1.1<\/a><sup class=\"reference\" id=\"cite_ref-MuskMay2012_13-5\"><a href=\"#cite_note-MuskMay2012-13\">[7]<\/a><\/sup><br\/>B1003<sup class=\"reference\" id=\"cite_ref-block_numbers_14-5\"><a href=\"#cite_note-block_numbers-14\">[8]<\/a><\/sup>\n",
      "<\/td>\n",
      "<td><a class=\"mw-redirect\" href=\"\/wiki\/Vandenberg_Air_Force_Base\" title=\"Vandenberg Air Force Base\">VAFB<\/a>,<br\/><a href=\"\/wiki\/Vandenberg_Space_Launch_Complex_4\" title=\"Vandenberg Space Launch Complex 4\">SLC-4E<\/a>\n",
      "<\/td>\n",
      "<td><a href=\"\/wiki\/CASSIOPE\" title=\"CASSIOPE\">CASSIOPE<\/a><sup class=\"reference\" id=\"cite_ref-sxManifest20120925_28-2\"><a href=\"#cite_note-sxManifest20120925-28\">[22]<\/a><\/sup><sup class=\"reference\" id=\"cite_ref-CASSIOPE_MDA_37-0\"><a href=\"#cite_note-CASSIOPE_MDA-37\">[31]<\/a><\/sup>\n",
      "<\/td>\n",
      "<td>500 kg (1,100 lb)\n",
      "<\/td>\n",
      "<td><a href=\"\/wiki\/Polar_orbit\" title=\"Polar orbit\">Polar orbit<\/a> <a href=\"\/wiki\/Low_Earth_orbit\" title=\"Low Earth orbit\">LEO<\/a>\n",
      "<\/td>\n",
      "<td><a href=\"\/wiki\/Maxar_Technologies\" title=\"Maxar Technologies\">MDA<\/a>\n",
      "<\/td>\n",
      "<td class=\"table-success\" style=\"background: #9EFF9E; vertical-align: middle; text-align: center;\">Success<sup class=\"reference\" id=\"cite_ref-pa20130930_36-1\"><a href=\"#cite_note-pa20130930-36\">[30]<\/a><\/sup>\n",
      "<\/td>\n",
      "<td class=\"table-no2\" style=\"background: #FFE3E3; color: black; vertical-align: middle; text-align: center;\">Uncontrolled<br\/><small>(ocean)<\/small><sup class=\"reference\" id=\"cite_ref-ocean_landing_38-0\"><a href=\"#cite_note-ocean_landing-38\">[d]<\/a><\/sup>\n",
      "<\/td><\/tr>\n",
      "<tr>\n",
      "<td colspan=\"9\">First commercial mission with a private customer, first launch from Vandenberg, and demonstration flight of Falcon 9 v1.1 with an improved 13-tonne to LEO capacity.<sup class=\"reference\" id=\"cite_ref-sxf9_20110321_35-1\"><a href=\"#cite_note-sxf9_20110321-35\">[29]<\/a><\/sup> After separation from the second stage carrying Canadian commercial and scientific satellites, the first stage booster performed a controlled reentry,<sup class=\"reference\" id=\"cite_ref-39\"><a href=\"#cite_note-39\">[32]<\/a><\/sup> and an <a href=\"\/wiki\/Falcon_9_first-stage_landing_tests\" title=\"Falcon 9 first-stage landing tests\">ocean touchdown test<\/a> for the first time. This provided good test data, even though the booster started rolling as it neared the ocean, leading to the shutdown of the central engine as the roll depleted it of fuel, resulting in a hard impact with the ocean.<sup class=\"reference\" id=\"cite_ref-pa20130930_36-2\"><a href=\"#cite_note-pa20130930-36\">[30]<\/a><\/sup> This was the first known attempt of a rocket engine being lit to perform a supersonic retro propulsion, and allowed SpaceX to enter a public-private partnership with <a href=\"\/wiki\/NASA\" title=\"NASA\">NASA<\/a> and its Mars entry, descent, and landing technologies research projects.<sup class=\"reference\" id=\"cite_ref-40\"><a href=\"#cite_note-40\">[33]<\/a><\/sup> <small>(<a href=\"#Maiden_flight_of_v1.1\">more details below<\/a>)<\/small>\n",
      "<\/td><\/tr>\n",
      "<tr>\n",
      "<th rowspan=\"2\" scope=\"row\" style=\"text-align:center;\">7\n",
      "<\/th>\n",
      "<td>3 December 2013,<br\/>22:41<sup class=\"reference\" id=\"cite_ref-sfn_wwls20130624_41-0\"><a href=\"#cite_note-sfn_wwls20130624-41\">[34]<\/a><\/sup>\n",
      "<\/td>\n",
      "<td><a href=\"\/wiki\/Falcon_9_v1.1\" title=\"Falcon 9 v1.1\">F9 v1.1<\/a><br\/>B1004\n",
      "<\/td>\n",
      "<td><a href=\"\/wiki\/Cape_Canaveral_Space_Force_Station\" title=\"Cape Canaveral Space Force Station\">CCAFS<\/a>,<br\/><a href=\"\/wiki\/Cape_Canaveral_Space_Launch_Complex_40\" title=\"Cape Canaveral Space Launch Complex 40\">SLC-40<\/a>\n",
      "<\/td>\n",
      "<td><a href=\"\/wiki\/SES-8\" title=\"SES-8\">SES-8<\/a><sup class=\"reference\" id=\"cite_ref-sxManifest20120925_28-3\"><a href=\"#cite_note-sxManifest20120925-28\">[22]<\/a><\/sup><sup class=\"reference\" id=\"cite_ref-spx-pr_42-0\"><a href=\"#cite_note-spx-pr-42\">[35]<\/a><\/sup><sup class=\"reference\" id=\"cite_ref-aw20110323_43-0\"><a href=\"#cite_note-aw20110323-43\">[36]<\/a><\/sup>\n",
      "<\/td>\n",
      "<td>3,170 kg (6,990 lb)\n",
      "<\/td>\n",
      "<td><a href=\"\/wiki\/Geostationary_transfer_orbit\" title=\"Geostationary transfer orbit\">GTO<\/a>\n",
      "<\/td>\n",
      "<td><a href=\"\/wiki\/SES_S.A.\" title=\"SES S.A.\">SES<\/a>\n",
      "<\/td>\n",
      "<td class=\"table-success\" style=\"background: #9EFF9E; vertical-align: middle; text-align: center;\">Success<sup class=\"reference\" id=\"cite_ref-SNMissionStatus7_44-0\"><a href=\"#cite_note-SNMissionStatus7-44\">[37]<\/a><\/sup>\n",
      "<\/td>\n",
      "<td class=\"table-noAttempt\" style=\"background: #EEE; vertical-align: middle; white-space: nowrap; text-align: center;\">No attempt<br\/><sup class=\"reference\" id=\"cite_ref-sf10120131203_45-0\"><a href=\"#cite_note-sf10120131203-45\">[38]<\/a><\/sup>\n",
      "<\/td><\/tr>\n",
      "<tr>\n",
      "<td colspan=\"9\">First <a href=\"\/wiki\/Geostationary_transfer_orbit\" title=\"Geostationary transfer orbit\">Geostationary transfer orbit<\/a> (GTO) launch for Falcon 9,<sup class=\"reference\" id=\"cite_ref-spx-pr_42-1\"><a href=\"#cite_note-spx-pr-42\">[35]<\/a><\/sup> and first successful reignition of the second stage.<sup class=\"reference\" id=\"cite_ref-46\"><a href=\"#cite_note-46\">[39]<\/a><\/sup> SES-8 was inserted into a <a href=\"\/wiki\/Geostationary_transfer_orbit\" title=\"Geostationary transfer orbit\">Super-Synchronous Transfer Orbit<\/a> of 79,341 km (49,300 mi) in apogee with an <a href=\"\/wiki\/Orbital_inclination\" title=\"Orbital inclination\">inclination<\/a> of 20.55° to the <a href=\"\/wiki\/Equator\" title=\"Equator\">equator<\/a>.\n",
      "<\/td><\/tr><\/tbody><\/table>\n"
     ],
     "output_type":"stream"
    }
   ],
   "metadata":{
    "datalore":{
     "type":"CODE",
     "hide_input_from_viewers":false,
     "hide_output_from_viewers":false
    }
   }
  },
  {
   "cell_type":"markdown",
   "source":[
    "You should able to see the columns names embedded in the table header elements `<th>` as follows:"
   ],
   "attachments":{
    
   },
   "metadata":{
    "datalore":{
     "type":"MD",
     "hide_input_from_viewers":false,
     "hide_output_from_viewers":false
    }
   }
  },
  {
   "cell_type":"markdown",
   "source":[
    "```\n",
    "<tr>\n",
    "<th scope=\"col\">Flight No.\n",
    "<\/th>\n",
    "<th scope=\"col\">Date and<br\/>time (<a href=\"\/wiki\/Coordinated_Universal_Time\" title=\"Coordinated Universal Time\">UTC<\/a>)\n",
    "<\/th>\n",
    "<th scope=\"col\"><a href=\"\/wiki\/List_of_Falcon_9_first-stage_boosters\" title=\"List of Falcon 9 first-stage boosters\">Version,<br\/>Booster<\/a> <sup class=\"reference\" id=\"cite_ref-booster_11-0\"><a href=\"#cite_note-booster-11\">[b]<\/a><\/sup>\n",
    "<\/th>\n",
    "<th scope=\"col\">Launch site\n",
    "<\/th>\n",
    "<th scope=\"col\">Payload<sup class=\"reference\" id=\"cite_ref-Dragon_12-0\"><a href=\"#cite_note-Dragon-12\">[c]<\/a><\/sup>\n",
    "<\/th>\n",
    "<th scope=\"col\">Payload mass\n",
    "<\/th>\n",
    "<th scope=\"col\">Orbit\n",
    "<\/th>\n",
    "<th scope=\"col\">Customer\n",
    "<\/th>\n",
    "<th scope=\"col\">Launch<br\/>outcome\n",
    "<\/th>\n",
    "<th scope=\"col\"><a href=\"\/wiki\/Falcon_9_first-stage_landing_tests\" title=\"Falcon 9 first-stage landing tests\">Booster<br\/>landing<\/a>\n",
    "<\/th><\/tr>\n",
    "```"
   ],
   "attachments":{
    
   },
   "metadata":{
    "datalore":{
     "type":"MD",
     "hide_input_from_viewers":false,
     "hide_output_from_viewers":false
    }
   }
  },
  {
   "cell_type":"markdown",
   "source":[
    "Next, we just need to iterate through the `<th>` elements and apply the provided `extract_column_from_header()` to extract column name one by one"
   ],
   "attachments":{
    
   },
   "metadata":{
    "datalore":{
     "type":"MD",
     "hide_input_from_viewers":false,
     "hide_output_from_viewers":false
    }
   }
  },
  {
   "cell_type":"code",
   "source":[
    "column_names = []\n",
    "\n",
    "# Apply find_all() function with `th` element on first_launch_table\n",
    "# Iterate each th element and apply the provided extract_column_from_header() to get a column name\n",
    "# Append the Non-empty column name (`if name is not None and len(name) > 0`) into a list called column_names\n",
    "\n",
    "\n",
    "th_elements = first_launch_table.find_all(\"th\")\n",
    "\n",
    "for i in th_elements:\n",
    "        columns = extract_column_from_header(i)\n",
    "        if not columns is None:\n",
    "            if len(columns) > 0: \n",
    "                column_names.append(columns)\n",
    "         "
   ],
   "execution_count":11,
   "outputs":[
    
   ],
   "metadata":{
    "datalore":{
     "type":"CODE",
     "hide_input_from_viewers":false,
     "hide_output_from_viewers":false
    }
   }
  },
  {
   "cell_type":"markdown",
   "source":[
    "Check the extracted column names"
   ],
   "attachments":{
    
   },
   "metadata":{
    "datalore":{
     "type":"MD",
     "hide_input_from_viewers":false,
     "hide_output_from_viewers":false
    }
   }
  },
  {
   "cell_type":"code",
   "source":[
    "print(column_names)"
   ],
   "execution_count":12,
   "outputs":[
    {
     "name":"stdout",
     "text":[
      "['Flight No.', 'Date and time ( )', 'Launch site', 'Payload', 'Payload mass', 'Orbit', 'Customer', 'Launch outcome']\n"
     ],
     "output_type":"stream"
    }
   ],
   "metadata":{
    "datalore":{
     "type":"CODE",
     "hide_input_from_viewers":false,
     "hide_output_from_viewers":false
    }
   }
  },
  {
   "cell_type":"markdown",
   "source":[
    "## TASK 3: Create a data frame by parsing the launch HTML tables"
   ],
   "attachments":{
    
   },
   "metadata":{
    "datalore":{
     "type":"MD",
     "hide_input_from_viewers":false,
     "hide_output_from_viewers":false
    }
   }
  },
  {
   "cell_type":"markdown",
   "source":[
    "We will create an empty dictionary with keys from the extracted column names in the previous task. Later, this dictionary will be converted into a Pandas dataframe"
   ],
   "attachments":{
    
   },
   "metadata":{
    "datalore":{
     "type":"MD",
     "hide_input_from_viewers":false,
     "hide_output_from_viewers":false
    }
   }
  },
  {
   "cell_type":"code",
   "source":[
    "launch_dict= dict.fromkeys(column_names)\n",
    "\n",
    "# Remove an irrelvant column\n",
    "del launch_dict['Date and time ( )']\n",
    "\n",
    "# Let's initial the launch_dict with each value to be an empty list\n",
    "launch_dict['Flight No.'] = []\n",
    "launch_dict['Launch site'] = []\n",
    "launch_dict['Payload'] = []\n",
    "launch_dict['Payload mass'] = []\n",
    "launch_dict['Orbit'] = []\n",
    "launch_dict['Customer'] = []\n",
    "launch_dict['Launch outcome'] = []\n",
    "# Added some new columns\n",
    "launch_dict['Version Booster']=[]\n",
    "launch_dict['Booster landing']=[]\n",
    "launch_dict['Date']=[]\n",
    "launch_dict['Time']=[]"
   ],
   "execution_count":13,
   "outputs":[
    
   ],
   "metadata":{
    "datalore":{
     "type":"CODE",
     "hide_input_from_viewers":false,
     "hide_output_from_viewers":false
    }
   }
  },
  {
   "cell_type":"markdown",
   "source":[
    "Next, we just need to fill up the `launch_dict` with launch records extracted from table rows."
   ],
   "attachments":{
    
   },
   "metadata":{
    "datalore":{
     "type":"MD",
     "hide_input_from_viewers":false,
     "hide_output_from_viewers":false
    }
   }
  },
  {
   "cell_type":"markdown",
   "source":[
    "Usually, HTML tables in Wiki pages are likely to contain unexpected annotations and other types of noises, such as reference links `B0004.1[8]`, missing values `N\/A [e]`, inconsistent formatting, etc."
   ],
   "attachments":{
    
   },
   "metadata":{
    "datalore":{
     "type":"MD",
     "hide_input_from_viewers":false,
     "hide_output_from_viewers":false
    }
   }
  },
  {
   "cell_type":"markdown",
   "source":[
    "To simplify the parsing process, we have provided an incomplete code snippet below to help you to fill up the `launch_dict`. Please complete the following code snippet with TODOs or you can choose to write your own logic to parse all launch tables:"
   ],
   "attachments":{
    
   },
   "metadata":{
    "datalore":{
     "type":"MD",
     "hide_input_from_viewers":false,
     "hide_output_from_viewers":false
    }
   }
  },
  {
   "cell_type":"code",
   "source":[
    "\n",
    "\n",
    "\n",
    "extracted_row = 0\n",
    "#Extract each table \n",
    "for table_number,table in enumerate(soup.find_all('table',\"wikitable plainrowheaders collapsible\")):\n",
    "   # get table row \n",
    "    for rows in table.find_all(\"tr\"):\n",
    "        #check to see if first table heading is as number corresponding to launch a number \n",
    "        if rows.th:\n",
    "            if rows.th.string:\n",
    "                flight_number=rows.th.string.strip()\n",
    "                flag=flight_number.isdigit()\n",
    "        else:\n",
    "            flag=False\n",
    "        #get table element \n",
    "        row=rows.find_all('td')\n",
    "        #if it is number save cells in a dictonary \n",
    "        if flag:\n",
    "            extracted_row += 1\n",
    "            # Flight Number value\n",
    "            # TODO: Append the flight_number into launch_dict with key `Flight No.`\n",
    "            launch_dict['Flight No.'].append(flight_number)\n",
    "            #print(flight_number)\n",
    "            print(\"flightnumber \", len(launch_dict['Flight No.']))\n",
    "\n",
    "\n",
    "\n",
    "            datatimelist=date_time(row[0])\n",
    "            \n",
    "            # Date value\n",
    "            # TODO: Append the date into launch_dict with key `Date`\n",
    "            date = datatimelist[0].strip(',')\n",
    "            launch_dict['Date'].append(date)\n",
    "            #print(date)\n",
    "            print(\"data\", len(launch_dict['Date']))\n",
    "            \n",
    "            # Time value\n",
    "            # TODO: Append the time into launch_dict with key `Time`\n",
    "            time = datatimelist[1]\n",
    "            launch_dict['Time'].append(time)\n",
    "            print(\"time\", len(launch_dict['Time']))     \n",
    "            #print(time)\n",
    "              \n",
    "            # Booster version\n",
    "            # TODO: Append the bv into launch_dict with key `Version Booster`\n",
    "            bv=booster_version(row[1])\n",
    "            if not(bv):\n",
    "                bv=row[1].a.string\n",
    "            launch_dict['Version Booster'].append(bv)\n",
    "            print(\"version booster \", len(launch_dict['Version Booster']))\n",
    "            \n",
    "            # Launch Site\n",
    "            # TODO: Append the bv into launch_dict with key `Launch Site`\n",
    "            launch_site = row[2].a.string\n",
    "            launch_dict['Launch site'].append(launch_site)\n",
    "            print(\"launch site\", len(launch_dict['Launch site']))\n",
    "            #print(launch_site)\n",
    "            \n",
    "            # Payload\n",
    "            # TODO: Append the payload into launch_dict with key `Payload`\n",
    "            payload = row[3].a.string\n",
    "            launch_dict['Payload'].append(payload)\n",
    "            print(\"payload\", len(launch_dict['Payload']))\n",
    "            #print(payload)\n",
    "            \n",
    "            # Payload Mass\n",
    "            # TODO: Append the payload_mass into launch_dict with key `Payload mass`\n",
    "            payload_mass = get_mass(row[4])\n",
    "            launch_dict['Payload mass'].append(payload_mass)\n",
    "            print(\"payload\" , len(launch_dict['Payload mass']))\n",
    "            #print(payload)\n",
    "            \n",
    "            # Orbit\n",
    "            # TODO: Append the orbit into launch_dict with key `Orbit`\n",
    "            orbit = row[5].a.string\n",
    "            launch_dict['Orbit'].append(orbit)\n",
    "            print(\"orbit \", len(launch_dict['Orbit']))\n",
    "            #print(orbit)\n",
    "            \n",
    "            # Customer\n",
    "            # TODO: Append the customer into launch_dict with key `Customer`\n",
    "            if row[6].a is not None:\n",
    "                customer = row[6].a.string\n",
    "            else:\n",
    "                customer = row[6].string\n",
    "            launch_dict['Customer'].append(customer)\n",
    "            print(\"customer \", len(launch_dict['Customer']))\n",
    "            #print(customer)\n",
    "            \n",
    "            # Launch outcome\n",
    "            # TODO: Append the launch_outcome into launch_dict with key `Launch outcome`\n",
    "            launch_outcome = list(row[7].strings)[0]\n",
    "            launch_dict['Launch outcome'].append(launch_outcome)\n",
    "            print(\"launchoutcome \", len(launch_dict['Launch outcome']) )\n",
    "            #print(launch_outcome)\n",
    "            \n",
    "            # Booster landing\n",
    "            # TODO: Append the launch_outcome into launch_dict with key `Booster landing`\n",
    "            booster_landing = landing_status(row[8])\n",
    "            launch_dict['Booster landing'].append(booster_landing)\n",
    "            print(\"booster landing \", len(launch_dict['Booster landing']))\n",
    "            #print(booster_landing)\n",
    "            "
   ],
   "execution_count":14,
   "outputs":[
    {
     "name":"stdout",
     "text":[
      "flightnumber  1\n",
      "data 1\n",
      "time 1\n",
      "version booster  1\n",
      "launch site 1\n",
      "payload 1\n",
      "payload 1\n",
      "orbit  1\n",
      "customer  1\n",
      "launchoutcome  1\n",
      "booster landing  1\n",
      "flightnumber  2\n",
      "data 2\n",
      "time 2\n",
      "version booster  2\n",
      "launch site 2\n",
      "payload 2\n",
      "payload 2\n",
      "orbit  2\n",
      "customer  2\n",
      "launchoutcome  2\n",
      "booster landing  2\n",
      "flightnumber  3\n",
      "data 3\n",
      "time 3\n",
      "version booster  3\n",
      "launch site 3\n",
      "payload 3\n",
      "payload 3\n",
      "orbit  3\n",
      "customer  3\n",
      "launchoutcome  3\n",
      "booster landing  3\n",
      "flightnumber  4\n",
      "data 4\n",
      "time 4\n",
      "version booster  4\n",
      "launch site 4\n",
      "payload 4\n",
      "payload 4\n",
      "orbit  4\n",
      "customer  4\n",
      "launchoutcome  4\n",
      "booster landing  4\n",
      "flightnumber  5\n",
      "data 5\n",
      "time 5\n",
      "version booster  5\n",
      "launch site 5\n",
      "payload 5\n",
      "payload 5\n",
      "orbit  5\n",
      "customer  5\n",
      "launchoutcome  5\n",
      "booster landing  5\n",
      "flightnumber  6\n",
      "data 6\n",
      "time 6\n",
      "version booster  6\n",
      "launch site 6\n",
      "payload 6\n",
      "payload 6\n",
      "orbit  6\n",
      "customer  6\n",
      "launchoutcome  6\n",
      "booster landing  6\n",
      "flightnumber  7\n",
      "data 7\n",
      "time 7\n",
      "version booster  7\n",
      "launch site 7\n",
      "payload 7\n",
      "payload 7\n",
      "orbit  7\n",
      "customer  7\n",
      "launchoutcome  7\n",
      "booster landing  7\n",
      "flightnumber  8\n",
      "data 8\n",
      "time 8\n",
      "version booster  8\n",
      "launch site 8\n",
      "payload 8\n",
      "payload 8\n",
      "orbit  8\n",
      "customer  8\n",
      "launchoutcome  8\n",
      "booster landing  8\n",
      "flightnumber  9\n",
      "data 9\n",
      "time 9\n",
      "version booster  9\n",
      "launch site 9\n",
      "payload 9\n",
      "payload 9\n",
      "orbit  9\n",
      "customer  9\n",
      "launchoutcome  9\n",
      "booster landing  9\n",
      "flightnumber  10\n",
      "data 10\n",
      "time 10\n",
      "version booster  10\n",
      "launch site 10\n",
      "payload 10\n",
      "payload 10\n",
      "orbit  10\n",
      "customer  10\n",
      "launchoutcome  10\n",
      "booster landing  10\n",
      "flightnumber  11\n",
      "data 11\n",
      "time 11\n",
      "version booster  11\n",
      "launch site 11\n",
      "payload 11\n",
      "payload 11\n",
      "orbit  11\n",
      "customer  11\n",
      "launchoutcome  11\n",
      "booster landing  11\n",
      "flightnumber  12\n",
      "data 12\n",
      "time 12\n",
      "version booster  12\n",
      "launch site 12\n",
      "payload 12\n",
      "payload 12\n",
      "orbit  12\n",
      "customer  12\n",
      "launchoutcome  12\n",
      "booster landing  12\n",
      "flightnumber  13\n",
      "data 13\n",
      "time 13\n",
      "version booster  13\n",
      "launch site 13\n",
      "payload 13\n",
      "payload 13\n",
      "orbit  13\n",
      "customer  13\n",
      "launchoutcome  13\n",
      "booster landing  13\n",
      "flightnumber  14\n",
      "data 14\n",
      "time 14\n",
      "version booster  14\n",
      "launch site 14\n",
      "payload 14\n",
      "payload 14\n",
      "orbit  14\n",
      "customer  14\n",
      "launchoutcome  14\n",
      "booster landing  14\n",
      "flightnumber  15\n",
      "data 15\n",
      "time 15\n",
      "version booster  15\n",
      "launch site 15\n",
      "payload 15\n",
      "payload 15\n",
      "orbit  15\n",
      "customer  15\n",
      "launchoutcome  15\n",
      "booster landing  15\n",
      "flightnumber  16\n",
      "data 16\n",
      "time 16\n",
      "version booster  16\n",
      "launch site 16\n",
      "payload 16\n",
      "payload 16\n",
      "orbit  16\n",
      "customer  16\n",
      "launchoutcome  16\n",
      "booster landing  16\n",
      "flightnumber  17\n",
      "data 17\n",
      "time 17\n",
      "version booster  17\n",
      "launch site 17\n",
      "payload 17\n",
      "payload 17\n",
      "orbit  17\n",
      "customer  17\n",
      "launchoutcome  17\n",
      "booster landing  17\n",
      "flightnumber  18\n",
      "data 18\n",
      "time 18\n",
      "version booster  18\n",
      "launch site 18\n",
      "payload 18\n",
      "payload 18\n",
      "orbit  18\n",
      "customer  18\n",
      "launchoutcome  18\n",
      "booster landing  18\n",
      "flightnumber  19\n",
      "data 19\n",
      "time 19\n",
      "version booster  19\n",
      "launch site 19\n",
      "payload 19\n",
      "payload 19\n",
      "orbit  19\n",
      "customer  19\n",
      "launchoutcome  19\n",
      "booster landing  19\n",
      "flightnumber  20\n",
      "data 20\n",
      "time 20\n",
      "version booster  20\n",
      "launch site 20\n",
      "payload 20\n",
      "payload 20\n",
      "orbit  20\n",
      "customer  20\n",
      "launchoutcome  20\n",
      "booster landing  20\n",
      "flightnumber  21\n",
      "data 21\n",
      "time 21\n",
      "version booster  21\n",
      "launch site 21\n",
      "payload 21\n",
      "payload 21\n",
      "orbit  21\n",
      "customer  21\n",
      "launchoutcome  21\n",
      "booster landing  21\n",
      "flightnumber  22\n",
      "data 22\n",
      "time 22\n",
      "version booster  22\n",
      "launch site 22\n",
      "payload 22\n",
      "payload 22\n",
      "orbit  22\n",
      "customer  22\n",
      "launchoutcome  22\n",
      "booster landing  22\n",
      "flightnumber  23\n",
      "data 23\n",
      "time 23\n",
      "version booster  23\n",
      "launch site 23\n",
      "payload 23\n",
      "payload 23\n",
      "orbit  23\n",
      "customer  23\n",
      "launchoutcome  23\n",
      "booster landing  23\n",
      "flightnumber  24\n",
      "data 24\n",
      "time 24\n",
      "version booster  24\n",
      "launch site 24\n",
      "payload 24\n",
      "payload 24\n",
      "orbit  24\n",
      "customer  24\n",
      "launchoutcome  24\n",
      "booster landing  24\n",
      "flightnumber  25\n",
      "data 25\n",
      "time 25\n",
      "version booster  25\n",
      "launch site 25\n",
      "payload 25\n",
      "payload 25\n",
      "orbit  25\n",
      "customer  25\n",
      "launchoutcome  25\n",
      "booster landing  25\n",
      "flightnumber  26\n",
      "data 26\n",
      "time 26\n",
      "version booster  26\n",
      "launch site 26\n",
      "payload 26\n",
      "payload 26\n",
      "orbit  26\n",
      "customer  26\n",
      "launchoutcome  26\n",
      "booster landing  26\n",
      "flightnumber  27\n",
      "data 27\n",
      "time 27\n",
      "version booster  27\n",
      "launch site 27\n",
      "payload 27\n",
      "payload 27\n",
      "orbit  27\n",
      "customer  27\n",
      "launchoutcome  27\n",
      "booster landing  27\n",
      "flightnumber  28\n",
      "data 28\n",
      "time 28\n",
      "version booster  28\n",
      "launch site 28\n",
      "payload 28\n",
      "payload 28\n",
      "orbit  28\n",
      "customer  28\n",
      "launchoutcome  28\n",
      "booster landing  28\n",
      "flightnumber  29\n",
      "data 29\n",
      "time 29\n",
      "version booster  29\n",
      "launch site 29\n",
      "payload 29\n",
      "payload 29\n",
      "orbit  29\n",
      "customer  29\n",
      "launchoutcome  29\n",
      "booster landing  29\n",
      "flightnumber  30\n",
      "data 30\n",
      "time 30\n",
      "version booster  30\n",
      "launch site 30\n",
      "payload 30\n",
      "payload 30\n",
      "orbit  30\n",
      "customer  30\n",
      "launchoutcome  30\n",
      "booster landing  30\n",
      "flightnumber  31\n",
      "data 31\n",
      "time 31\n",
      "version booster  31\n",
      "launch site 31\n",
      "payload 31\n",
      "payload 31\n",
      "orbit  31\n",
      "customer  31\n",
      "launchoutcome  31\n",
      "booster landing  31\n",
      "flightnumber  32\n",
      "data 32\n",
      "time 32\n",
      "version booster  32\n",
      "launch site 32\n",
      "payload 32\n",
      "payload 32\n",
      "orbit  32\n",
      "customer  32\n",
      "launchoutcome  32\n",
      "booster landing  32\n",
      "flightnumber  33\n",
      "data 33\n",
      "time 33\n",
      "version booster  33\n",
      "launch site 33\n",
      "payload 33\n",
      "payload 33\n",
      "orbit  33\n",
      "customer  33\n",
      "launchoutcome  33\n",
      "booster landing  33\n",
      "flightnumber  34\n",
      "data 34\n",
      "time 34\n",
      "version booster  34\n",
      "launch site 34\n",
      "payload 34\n",
      "payload 34\n",
      "orbit  34\n",
      "customer  34\n",
      "launchoutcome  34\n",
      "booster landing  34\n",
      "flightnumber  35\n",
      "data 35\n",
      "time 35\n",
      "version booster  35\n",
      "launch site 35\n",
      "payload 35\n",
      "payload 35\n",
      "orbit  35\n",
      "customer  35\n",
      "launchoutcome  35\n",
      "booster landing  35\n",
      "flightnumber  36\n",
      "data 36\n",
      "time 36\n",
      "version booster  36\n",
      "launch site 36\n",
      "payload 36\n",
      "payload 36\n",
      "orbit  36\n",
      "customer  36\n",
      "launchoutcome  36\n",
      "booster landing  36\n",
      "flightnumber  37\n",
      "data 37\n",
      "time 37\n",
      "version booster  37\n",
      "launch site 37\n",
      "payload 37\n",
      "payload 37\n",
      "orbit  37\n",
      "customer  37\n",
      "launchoutcome  37\n",
      "booster landing  37\n",
      "flightnumber  38\n",
      "data 38\n",
      "time 38\n",
      "version booster  38\n",
      "launch site 38\n",
      "payload 38\n",
      "payload 38\n",
      "orbit  38\n",
      "customer  38\n",
      "launchoutcome  38\n",
      "booster landing  38\n",
      "flightnumber  39\n",
      "data 39\n",
      "time 39\n",
      "version booster  39\n",
      "launch site 39\n",
      "payload 39\n",
      "payload 39\n",
      "orbit  39\n",
      "customer  39\n",
      "launchoutcome  39\n",
      "booster landing  39\n",
      "flightnumber  40\n",
      "data 40\n",
      "time 40\n",
      "version booster  40\n",
      "launch site 40\n",
      "payload 40\n",
      "payload 40\n",
      "orbit  40\n",
      "customer  40\n",
      "launchoutcome  40\n",
      "booster landing  40\n",
      "flightnumber  41\n",
      "data 41\n",
      "time 41\n",
      "version booster  41\n",
      "launch site 41\n",
      "payload 41\n",
      "payload 41\n",
      "orbit  41\n",
      "customer  41\n",
      "launchoutcome  41\n",
      "booster landing  41\n",
      "flightnumber  42\n",
      "data 42\n",
      "time 42\n",
      "version booster  42\n",
      "launch site 42\n",
      "payload 42\n",
      "payload 42\n",
      "orbit  42\n",
      "customer  42\n",
      "launchoutcome  42\n",
      "booster landing  42\n",
      "flightnumber  43\n",
      "data 43\n",
      "time 43\n",
      "version booster  43\n",
      "launch site 43\n",
      "payload 43\n",
      "payload 43\n",
      "orbit  43\n",
      "customer  43\n",
      "launchoutcome  43\n",
      "booster landing  43\n",
      "flightnumber  44\n",
      "data 44\n",
      "time 44\n",
      "version booster  44\n",
      "launch site 44\n",
      "payload 44\n",
      "payload 44\n",
      "orbit  44\n",
      "customer  44\n",
      "launchoutcome  44\n",
      "booster landing  44\n",
      "flightnumber  45\n",
      "data 45\n",
      "time 45\n",
      "version booster  45\n",
      "launch site 45\n",
      "payload 45\n",
      "payload 45\n",
      "orbit  45\n",
      "customer  45\n",
      "launchoutcome  45\n",
      "booster landing  45\n",
      "flightnumber  46\n",
      "data 46\n",
      "time 46\n",
      "version booster  46\n",
      "launch site 46\n",
      "payload 46\n",
      "payload 46\n",
      "orbit  46\n",
      "customer  46\n",
      "launchoutcome  46\n",
      "booster landing  46\n",
      "flightnumber  47\n",
      "data 47\n",
      "time 47\n",
      "version booster  47\n",
      "launch site 47\n",
      "payload 47\n",
      "payload 47\n",
      "orbit  47\n",
      "customer  47\n",
      "launchoutcome  47\n",
      "booster landing  47\n",
      "flightnumber  48\n",
      "data 48\n",
      "time 48\n",
      "version booster  48\n",
      "launch site 48\n",
      "payload 48\n",
      "payload 48\n",
      "orbit  48\n",
      "customer  48\n",
      "launchoutcome  48\n",
      "booster landing  48\n",
      "flightnumber  49\n",
      "data 49\n",
      "time 49\n",
      "version booster  49\n",
      "launch site 49\n",
      "payload 49\n",
      "payload 49\n",
      "orbit  49\n",
      "customer  49\n",
      "launchoutcome  49\n",
      "booster landing  49\n",
      "flightnumber  50\n",
      "data 50\n",
      "time 50\n",
      "version booster  50\n",
      "launch site 50\n",
      "payload 50\n",
      "payload 50\n",
      "orbit  50\n",
      "customer  50\n",
      "launchoutcome  50\n",
      "booster landing  50\n",
      "flightnumber  51\n",
      "data 51\n",
      "time 51\n",
      "version booster  51\n",
      "launch site 51\n",
      "payload 51\n",
      "payload 51\n",
      "orbit  51\n",
      "customer  51\n",
      "launchoutcome  51\n",
      "booster landing  51\n",
      "flightnumber  52\n",
      "data 52\n",
      "time 52\n",
      "version booster  52\n",
      "launch site 52\n",
      "payload 52\n",
      "payload 52\n",
      "orbit  52\n",
      "customer  52\n",
      "launchoutcome  52\n",
      "booster landing  52\n",
      "flightnumber  53\n",
      "data 53\n",
      "time 53\n",
      "version booster  53\n",
      "launch site 53\n",
      "payload 53\n",
      "payload 53\n",
      "orbit  53\n",
      "customer  53\n",
      "launchoutcome  53\n",
      "booster landing  53\n",
      "flightnumber  54\n",
      "data 54\n",
      "time 54\n",
      "version booster  54\n",
      "launch site 54\n",
      "payload 54\n",
      "payload 54\n",
      "orbit  54\n",
      "customer  54\n",
      "launchoutcome  54\n",
      "booster landing  54\n",
      "flightnumber  55\n",
      "data 55\n",
      "time 55\n",
      "version booster  55\n",
      "launch site 55\n",
      "payload 55\n",
      "payload 55\n",
      "orbit  55\n",
      "customer  55\n",
      "launchoutcome  55\n",
      "booster landing  55\n",
      "flightnumber  56\n",
      "data 56\n",
      "time 56\n",
      "version booster  56\n",
      "launch site 56\n",
      "payload 56\n",
      "payload 56\n",
      "orbit  56\n",
      "customer  56\n",
      "launchoutcome  56\n",
      "booster landing  56\n",
      "flightnumber  57\n",
      "data 57\n",
      "time 57\n",
      "version booster  57\n",
      "launch site 57\n",
      "payload 57\n",
      "payload 57\n",
      "orbit  57\n",
      "customer  57\n",
      "launchoutcome  57\n",
      "booster landing  57\n",
      "flightnumber  58\n",
      "data 58\n",
      "time 58\n",
      "version booster  58\n",
      "launch site 58\n",
      "payload 58\n",
      "payload 58\n",
      "orbit  58\n",
      "customer  58\n",
      "launchoutcome  58\n",
      "booster landing  58\n",
      "flightnumber  59\n",
      "data 59\n",
      "time 59\n",
      "version booster  59\n",
      "launch site 59\n",
      "payload 59\n",
      "payload 59\n",
      "orbit  59\n",
      "customer  59\n",
      "launchoutcome  59\n",
      "booster landing  59\n",
      "flightnumber  60\n",
      "data 60\n",
      "time 60\n",
      "version booster  60\n",
      "launch site 60\n",
      "payload 60\n",
      "payload 60\n",
      "orbit  60\n",
      "customer  60\n",
      "launchoutcome  60\n",
      "booster landing  60\n",
      "flightnumber  61\n",
      "data 61\n",
      "time 61\n",
      "version booster  61\n",
      "launch site 61\n",
      "payload 61\n",
      "payload 61\n",
      "orbit  61\n",
      "customer  61\n",
      "launchoutcome  61\n",
      "booster landing  61\n",
      "flightnumber  62\n",
      "data 62\n",
      "time 62\n",
      "version booster  62\n",
      "launch site 62\n",
      "payload 62\n",
      "payload 62\n",
      "orbit  62\n",
      "customer  62\n",
      "launchoutcome  62\n",
      "booster landing  62\n",
      "flightnumber  63\n",
      "data 63\n",
      "time 63\n",
      "version booster  63\n",
      "launch site 63\n",
      "payload 63\n",
      "payload 63\n",
      "orbit  63\n",
      "customer  63\n",
      "launchoutcome  63\n",
      "booster landing  63\n",
      "flightnumber  64\n",
      "data 64\n",
      "time 64\n",
      "version booster  64\n",
      "launch site 64\n",
      "payload 64\n",
      "payload 64\n",
      "orbit  64\n",
      "customer  64\n",
      "launchoutcome  64\n",
      "booster landing  64\n",
      "flightnumber  65\n",
      "data 65\n",
      "time 65\n",
      "version booster  65\n",
      "launch site 65\n",
      "payload 65\n",
      "payload 65\n",
      "orbit  65\n",
      "customer  65\n",
      "launchoutcome  65\n",
      "booster landing  65\n",
      "flightnumber  66\n",
      "data 66\n",
      "time 66\n",
      "version booster  66\n",
      "launch site 66\n",
      "payload 66\n",
      "payload 66\n",
      "orbit  66\n",
      "customer  66\n",
      "launchoutcome  66\n",
      "booster landing  66\n",
      "flightnumber  67\n",
      "data 67\n",
      "time 67\n",
      "version booster  67\n",
      "launch site 67\n",
      "payload 67\n",
      "payload 67\n",
      "orbit  67\n",
      "customer  67\n",
      "launchoutcome  67\n",
      "booster landing  67\n",
      "flightnumber  68\n",
      "data 68\n",
      "time 68\n",
      "version booster  68\n",
      "launch site 68\n",
      "payload 68\n",
      "payload 68\n",
      "orbit  68\n",
      "customer  68\n",
      "launchoutcome  68\n",
      "booster landing  68\n",
      "flightnumber  69\n",
      "data 69\n",
      "time 69\n",
      "version booster  69\n",
      "launch site 69\n",
      "payload 69\n",
      "payload 69\n",
      "orbit  69\n",
      "customer  69\n",
      "launchoutcome  69\n",
      "booster landing  69\n",
      "flightnumber  70\n",
      "data 70\n",
      "time 70\n",
      "version booster  70\n",
      "launch site 70\n",
      "payload 70\n",
      "payload 70\n",
      "orbit  70\n",
      "customer  70\n",
      "launchoutcome  70\n",
      "booster landing  70\n",
      "flightnumber  71\n",
      "data 71\n",
      "time 71\n",
      "version booster  71\n",
      "launch site 71\n",
      "payload 71\n",
      "payload 71\n",
      "orbit  71\n",
      "customer  71\n",
      "launchoutcome  71\n",
      "booster landing  71\n",
      "flightnumber  72\n",
      "data 72\n",
      "time 72\n",
      "version booster  72\n",
      "launch site 72\n",
      "payload 72\n",
      "payload 72\n",
      "orbit  72\n",
      "customer  72\n",
      "launchoutcome  72\n",
      "booster landing  72\n",
      "flightnumber  73\n",
      "data 73\n",
      "time 73\n",
      "version booster  73\n",
      "launch site 73\n",
      "payload 73\n",
      "payload 73\n",
      "orbit  73\n",
      "customer  73\n",
      "launchoutcome  73\n",
      "booster landing  73\n",
      "flightnumber  74\n",
      "data 74\n",
      "time 74\n",
      "version booster  74\n",
      "launch site 74\n",
      "payload 74\n",
      "payload 74\n",
      "orbit  74\n",
      "customer  74\n",
      "launchoutcome  74\n",
      "booster landing  74\n",
      "flightnumber  75\n",
      "data 75\n",
      "time 75\n",
      "version booster  75\n",
      "launch site 75\n",
      "payload 75\n",
      "payload 75\n",
      "orbit  75\n",
      "customer  75\n",
      "launchoutcome  75\n",
      "booster landing  75\n",
      "flightnumber  76\n",
      "data 76\n",
      "time 76\n",
      "version booster  76\n",
      "launch site 76\n",
      "payload 76\n",
      "payload 76\n",
      "orbit  76\n",
      "customer  76\n",
      "launchoutcome  76\n",
      "booster landing  76\n",
      "flightnumber  77\n",
      "data 77\n",
      "time 77\n",
      "version booster  77\n",
      "launch site 77\n",
      "payload 77\n",
      "payload 77\n",
      "orbit  77\n",
      "customer  77\n",
      "launchoutcome  77\n",
      "booster landing  77\n",
      "flightnumber  78\n",
      "data 78\n",
      "time 78\n",
      "version booster  78\n",
      "launch site 78\n",
      "payload 78\n",
      "payload 78\n",
      "orbit  78\n",
      "customer  78\n",
      "launchoutcome  78\n",
      "booster landing  78\n",
      "flightnumber  79\n",
      "data 79\n",
      "time 79\n",
      "version booster  79\n",
      "launch site 79\n",
      "payload 79\n",
      "payload 79\n",
      "orbit  79\n",
      "customer  79\n",
      "launchoutcome  79\n",
      "booster landing  79\n",
      "flightnumber  80\n",
      "data 80\n",
      "time 80\n",
      "version booster  80\n",
      "launch site 80\n",
      "payload 80\n",
      "payload 80\n",
      "orbit  80\n",
      "customer  80\n",
      "launchoutcome  80\n",
      "booster landing  80\n",
      "flightnumber  81\n",
      "data 81\n",
      "time 81\n",
      "version booster  81\n",
      "launch site 81\n",
      "payload 81\n",
      "payload 81\n",
      "orbit  81\n",
      "customer  81\n",
      "launchoutcome  81\n",
      "booster landing  81\n",
      "flightnumber  82\n",
      "data 82\n",
      "time 82\n",
      "version booster  82\n",
      "launch site 82\n",
      "payload 82\n",
      "payload 82\n",
      "orbit  82\n",
      "customer  82\n",
      "launchoutcome  82\n",
      "booster landing  82\n",
      "flightnumber  83\n",
      "data 83\n",
      "time 83\n",
      "version booster  83\n",
      "launch site 83\n",
      "payload 83\n",
      "payload 83\n",
      "orbit  83\n",
      "customer  83\n",
      "launchoutcome  83\n",
      "booster landing  83\n",
      "flightnumber  84\n",
      "data 84\n",
      "time 84\n",
      "version booster  84\n",
      "launch site 84\n",
      "payload 84\n",
      "payload 84\n",
      "orbit  84\n",
      "customer  84\n",
      "launchoutcome  84\n",
      "booster landing  84\n",
      "flightnumber  85\n",
      "data 85\n",
      "time 85\n",
      "version booster  85\n",
      "launch site 85\n",
      "payload 85\n",
      "payload 85\n",
      "orbit  85\n",
      "customer  85\n",
      "launchoutcome  85\n",
      "booster landing  85\n",
      "flightnumber  86\n",
      "data 86\n",
      "time 86\n",
      "version booster  86\n",
      "launch site 86\n",
      "payload 86\n",
      "payload 86\n",
      "orbit  86\n",
      "customer  86\n",
      "launchoutcome  86\n",
      "booster landing  86\n",
      "flightnumber  87\n",
      "data 87\n",
      "time 87\n",
      "version booster  87\n",
      "launch site 87\n",
      "payload 87\n",
      "payload 87\n",
      "orbit  87\n",
      "customer  87\n",
      "launchoutcome  87\n",
      "booster landing  87\n",
      "flightnumber  88\n",
      "data 88\n",
      "time 88\n",
      "version booster  88\n",
      "launch site 88\n",
      "payload 88\n",
      "payload 88\n",
      "orbit  88\n",
      "customer  88\n",
      "launchoutcome  88\n",
      "booster landing  88\n",
      "flightnumber  89\n",
      "data 89\n",
      "time 89\n",
      "version booster  89\n",
      "launch site 89\n",
      "payload 89\n",
      "payload 89\n",
      "orbit  89\n",
      "customer  89\n",
      "launchoutcome  89\n",
      "booster landing  89\n",
      "flightnumber  90\n",
      "data 90\n",
      "time 90\n",
      "version booster  90\n",
      "launch site 90\n",
      "payload 90\n",
      "payload 90\n",
      "orbit  90\n",
      "customer  90\n",
      "launchoutcome  90\n",
      "booster landing  90\n",
      "flightnumber  91\n",
      "data 91\n",
      "time 91\n",
      "version booster  91\n",
      "launch site 91\n",
      "payload 91\n",
      "payload 91\n",
      "orbit  91\n",
      "customer  91\n",
      "launchoutcome  91\n",
      "booster landing  91\n",
      "flightnumber  92\n",
      "data 92\n",
      "time 92\n",
      "version booster  92\n",
      "launch site 92\n",
      "payload 92\n",
      "payload 92\n",
      "orbit  92\n",
      "customer  92\n",
      "launchoutcome  92\n",
      "booster landing  92\n",
      "flightnumber  93\n",
      "data 93\n",
      "time 93\n",
      "version booster  93\n",
      "launch site 93\n",
      "payload 93\n",
      "payload 93\n",
      "orbit  93\n",
      "customer  93\n",
      "launchoutcome  93\n",
      "booster landing  93\n",
      "flightnumber  94\n",
      "data 94\n",
      "time 94\n",
      "version booster  94\n",
      "launch site 94\n",
      "payload 94\n",
      "payload 94\n",
      "orbit  94\n",
      "customer  94\n",
      "launchoutcome  94\n",
      "booster landing  94\n",
      "flightnumber  95\n",
      "data 95\n",
      "time 95\n",
      "version booster  95\n",
      "launch site 95\n",
      "payload 95\n",
      "payload 95\n",
      "orbit  95\n",
      "customer  95\n",
      "launchoutcome  95\n",
      "booster landing  95\n",
      "flightnumber  96\n",
      "data 96\n",
      "time 96\n",
      "version booster  96\n",
      "launch site 96\n",
      "payload 96\n",
      "payload 96\n",
      "orbit  96\n",
      "customer  96\n",
      "launchoutcome  96\n",
      "booster landing  96\n",
      "flightnumber  97\n",
      "data 97\n",
      "time 97\n",
      "version booster  97\n",
      "launch site 97\n",
      "payload 97\n",
      "payload 97\n",
      "orbit  97\n",
      "customer  97\n",
      "launchoutcome  97\n",
      "booster landing  97\n",
      "flightnumber  98\n",
      "data 98\n",
      "time 98\n",
      "version booster  98\n",
      "launch site 98\n",
      "payload 98\n",
      "payload 98\n",
      "orbit  98\n",
      "customer  98\n",
      "launchoutcome  98\n",
      "booster landing  98\n",
      "flightnumber  99\n",
      "data 99\n",
      "time 99\n",
      "version booster  99\n",
      "launch site 99\n",
      "payload 99\n",
      "payload 99\n",
      "orbit  99\n",
      "customer  99\n",
      "launchoutcome  99\n",
      "booster landing  99\n",
      "flightnumber  100\n",
      "data 100\n",
      "time 100\n",
      "version booster  100\n",
      "launch site 100\n",
      "payload 100\n",
      "payload 100\n",
      "orbit  100\n",
      "customer  100\n",
      "launchoutcome  100\n",
      "booster landing  100\n",
      "flightnumber  101\n",
      "data 101\n",
      "time 101\n",
      "version booster  101\n",
      "launch site 101\n",
      "payload 101\n",
      "payload 101\n",
      "orbit  101\n",
      "customer  101\n",
      "launchoutcome  101\n",
      "booster landing  101\n",
      "flightnumber  102\n",
      "data 102\n",
      "time 102\n",
      "version booster  102\n",
      "launch site 102\n",
      "payload 102\n",
      "payload 102\n",
      "orbit  102\n",
      "customer  102\n",
      "launchoutcome  102\n",
      "booster landing  102\n",
      "flightnumber  103\n",
      "data 103\n",
      "time 103\n",
      "version booster  103\n",
      "launch site 103\n",
      "payload 103\n",
      "payload 103\n",
      "orbit  103\n",
      "customer  103\n",
      "launchoutcome  103\n",
      "booster landing  103\n",
      "flightnumber  104\n",
      "data 104\n",
      "time 104\n",
      "version booster  104\n",
      "launch site 104\n",
      "payload 104\n",
      "payload 104\n",
      "orbit  104\n",
      "customer  104\n",
      "launchoutcome  104\n",
      "booster landing  104\n",
      "flightnumber  105\n",
      "data 105\n",
      "time 105\n",
      "version booster  105\n",
      "launch site 105\n",
      "payload 105\n",
      "payload 105\n",
      "orbit  105\n",
      "customer  105\n",
      "launchoutcome  105\n",
      "booster landing  105\n",
      "flightnumber  106\n",
      "data 106\n",
      "time 106\n",
      "version booster  106\n",
      "launch site 106\n",
      "payload 106\n",
      "payload 106\n",
      "orbit  106\n",
      "customer  106\n",
      "launchoutcome  106\n",
      "booster landing  106\n",
      "flightnumber  107\n",
      "data 107\n",
      "time 107\n",
      "version booster  107\n",
      "launch site 107\n",
      "payload 107\n",
      "payload 107\n",
      "orbit  107\n",
      "customer  107\n",
      "launchoutcome  107\n",
      "booster landing  107\n",
      "flightnumber  108\n",
      "data 108\n",
      "time 108\n",
      "version booster  108\n",
      "launch site 108\n",
      "payload 108\n",
      "payload 108\n",
      "orbit  108\n",
      "customer  108\n",
      "launchoutcome  108\n",
      "booster landing  108\n",
      "flightnumber  109\n",
      "data 109\n",
      "time 109\n",
      "version booster  109\n",
      "launch site 109\n",
      "payload 109\n",
      "payload 109\n",
      "orbit  109\n",
      "customer  109\n",
      "launchoutcome  109\n",
      "booster landing  109\n",
      "flightnumber  110\n",
      "data 110\n",
      "time 110\n",
      "version booster  110\n",
      "launch site 110\n",
      "payload 110\n",
      "payload 110\n",
      "orbit  110\n",
      "customer  110\n",
      "launchoutcome  110\n",
      "booster landing  110\n",
      "flightnumber  111\n",
      "data 111\n",
      "time 111\n",
      "version booster  111\n",
      "launch site 111\n",
      "payload 111\n",
      "payload 111\n",
      "orbit  111\n",
      "customer  111\n",
      "launchoutcome  111\n",
      "booster landing  111\n",
      "flightnumber  112\n",
      "data 112\n",
      "time 112\n",
      "version booster  112\n",
      "launch site 112\n",
      "payload 112\n",
      "payload 112\n",
      "orbit  112\n",
      "customer  112\n",
      "launchoutcome  112\n",
      "booster landing  112\n",
      "flightnumber  113\n",
      "data 113\n",
      "time 113\n",
      "version booster  113\n",
      "launch site 113\n",
      "payload 113\n",
      "payload 113\n",
      "orbit  113\n",
      "customer  113\n",
      "launchoutcome  113\n",
      "booster landing  113\n",
      "flightnumber  114\n",
      "data 114\n",
      "time 114\n",
      "version booster  114\n",
      "launch site 114\n",
      "payload 114\n",
      "payload 114\n",
      "orbit  114\n",
      "customer  114\n",
      "launchoutcome  114\n",
      "booster landing  114\n",
      "flightnumber  115\n",
      "data 115\n",
      "time 115\n",
      "version booster  115\n",
      "launch site 115\n",
      "payload 115\n",
      "payload 115\n",
      "orbit  115\n",
      "customer  115\n",
      "launchoutcome  115\n",
      "booster landing  115\n",
      "flightnumber  116\n",
      "data 116\n",
      "time 116\n",
      "version booster  116\n",
      "launch site 116\n",
      "payload 116\n",
      "payload 116\n",
      "orbit  116\n",
      "customer  116\n",
      "launchoutcome  116\n",
      "booster landing  116\n",
      "flightnumber  117\n",
      "data 117\n",
      "time 117\n",
      "version booster  117\n",
      "launch site 117\n",
      "payload 117\n",
      "payload 117\n",
      "orbit  117\n",
      "customer  117\n",
      "launchoutcome  117\n",
      "booster landing  117\n",
      "flightnumber  118\n",
      "data 118\n",
      "time 118\n",
      "version booster  118\n",
      "launch site 118\n",
      "payload 118\n",
      "payload 118\n",
      "orbit  118\n",
      "customer  118\n",
      "launchoutcome  118\n",
      "booster landing  118\n",
      "flightnumber  119\n",
      "data 119\n",
      "time 119\n",
      "version booster  119\n",
      "launch site 119\n",
      "payload 119\n",
      "payload 119\n",
      "orbit  119\n",
      "customer  119\n",
      "launchoutcome  119\n",
      "booster landing  119\n",
      "flightnumber  120\n",
      "data 120\n",
      "time 120\n",
      "version booster  120\n",
      "launch site 120\n",
      "payload 120\n",
      "payload 120\n",
      "orbit  120\n",
      "customer  120\n",
      "launchoutcome  120\n",
      "booster landing  120\n",
      "flightnumber  121\n",
      "data 121\n",
      "time 121\n",
      "version booster  121\n",
      "launch site 121\n",
      "payload 121\n",
      "payload 121\n",
      "orbit  121\n",
      "customer  121\n",
      "launchoutcome  121\n",
      "booster landing  121\n"
     ],
     "output_type":"stream"
    }
   ],
   "metadata":{
    "datalore":{
     "type":"CODE",
     "hide_input_from_viewers":false,
     "hide_output_from_viewers":false
    }
   }
  },
  {
   "cell_type":"markdown",
   "source":[
    "After you have fill in the parsed launch record values into `launch_dict`, you can create a dataframe from it."
   ],
   "attachments":{
    
   },
   "metadata":{
    "datalore":{
     "type":"MD",
     "hide_input_from_viewers":false,
     "hide_output_from_viewers":false
    }
   }
  },
  {
   "cell_type":"code",
   "source":[
    "df=pd.DataFrame(launch_dict)\n",
    "df"
   ],
   "execution_count":15,
   "outputs":[
    {
     "data":{
      "text\/html":[
       "<div>\n",
       "<style scoped>\n",
       "    .dataframe tbody tr th:only-of-type {\n",
       "        vertical-align: middle;\n",
       "    }\n",
       "\n",
       "    .dataframe tbody tr th {\n",
       "        vertical-align: top;\n",
       "    }\n",
       "\n",
       "    .dataframe thead th {\n",
       "        text-align: right;\n",
       "    }\n",
       "<\/style>\n",
       "<table border=\"1\" class=\"dataframe\">\n",
       "  <thead>\n",
       "    <tr style=\"text-align: right;\">\n",
       "      <th><\/th>\n",
       "      <th>Flight No.<\/th>\n",
       "      <th>Launch site<\/th>\n",
       "      <th>Payload<\/th>\n",
       "      <th>Payload mass<\/th>\n",
       "      <th>Orbit<\/th>\n",
       "      <th>Customer<\/th>\n",
       "      <th>Launch outcome<\/th>\n",
       "      <th>Version Booster<\/th>\n",
       "      <th>Booster landing<\/th>\n",
       "      <th>Date<\/th>\n",
       "      <th>Time<\/th>\n",
       "    <\/tr>\n",
       "  <\/thead>\n",
       "  <tbody>\n",
       "    <tr>\n",
       "      <th>0<\/th>\n",
       "      <td>1<\/td>\n",
       "      <td>CCAFS<\/td>\n",
       "      <td>Dragon Spacecraft Qualification Unit<\/td>\n",
       "      <td>0<\/td>\n",
       "      <td>LEO<\/td>\n",
       "      <td>SpaceX<\/td>\n",
       "      <td>Success\\n<\/td>\n",
       "      <td>F9 v1.0B0003.1<\/td>\n",
       "      <td>Failure<\/td>\n",
       "      <td>4 June 2010<\/td>\n",
       "      <td>18:45<\/td>\n",
       "    <\/tr>\n",
       "    <tr>\n",
       "      <th>1<\/th>\n",
       "      <td>2<\/td>\n",
       "      <td>CCAFS<\/td>\n",
       "      <td>Dragon<\/td>\n",
       "      <td>0<\/td>\n",
       "      <td>LEO<\/td>\n",
       "      <td>NASA<\/td>\n",
       "      <td>Success<\/td>\n",
       "      <td>F9 v1.0B0004.1<\/td>\n",
       "      <td>Failure<\/td>\n",
       "      <td>8 December 2010<\/td>\n",
       "      <td>15:43<\/td>\n",
       "    <\/tr>\n",
       "    <tr>\n",
       "      <th>2<\/th>\n",
       "      <td>3<\/td>\n",
       "      <td>CCAFS<\/td>\n",
       "      <td>Dragon<\/td>\n",
       "      <td>525 kg<\/td>\n",
       "      <td>LEO<\/td>\n",
       "      <td>NASA<\/td>\n",
       "      <td>Success<\/td>\n",
       "      <td>F9 v1.0B0005.1<\/td>\n",
       "      <td>No attempt\\n<\/td>\n",
       "      <td>22 May 2012<\/td>\n",
       "      <td>07:44<\/td>\n",
       "    <\/tr>\n",
       "    <tr>\n",
       "      <th>3<\/th>\n",
       "      <td>4<\/td>\n",
       "      <td>CCAFS<\/td>\n",
       "      <td>SpaceX CRS-1<\/td>\n",
       "      <td>4,700 kg<\/td>\n",
       "      <td>LEO<\/td>\n",
       "      <td>NASA<\/td>\n",
       "      <td>Success\\n<\/td>\n",
       "      <td>F9 v1.0B0006.1<\/td>\n",
       "      <td>No attempt<\/td>\n",
       "      <td>8 October 2012<\/td>\n",
       "      <td>00:35<\/td>\n",
       "    <\/tr>\n",
       "    <tr>\n",
       "      <th>4<\/th>\n",
       "      <td>5<\/td>\n",
       "      <td>CCAFS<\/td>\n",
       "      <td>SpaceX CRS-2<\/td>\n",
       "      <td>4,877 kg<\/td>\n",
       "      <td>LEO<\/td>\n",
       "      <td>NASA<\/td>\n",
       "      <td>Success\\n<\/td>\n",
       "      <td>F9 v1.0B0007.1<\/td>\n",
       "      <td>No attempt\\n<\/td>\n",
       "      <td>1 March 2013<\/td>\n",
       "      <td>15:10<\/td>\n",
       "    <\/tr>\n",
       "    <tr>\n",
       "      <th>...<\/th>\n",
       "      <td>...<\/td>\n",
       "      <td>...<\/td>\n",
       "      <td>...<\/td>\n",
       "      <td>...<\/td>\n",
       "      <td>...<\/td>\n",
       "      <td>...<\/td>\n",
       "      <td>...<\/td>\n",
       "      <td>...<\/td>\n",
       "      <td>...<\/td>\n",
       "      <td>...<\/td>\n",
       "      <td>...<\/td>\n",
       "    <\/tr>\n",
       "    <tr>\n",
       "      <th>116<\/th>\n",
       "      <td>117<\/td>\n",
       "      <td>CCSFS<\/td>\n",
       "      <td>Starlink<\/td>\n",
       "      <td>15,600 kg<\/td>\n",
       "      <td>LEO<\/td>\n",
       "      <td>SpaceX<\/td>\n",
       "      <td>Success\\n<\/td>\n",
       "      <td>F9 B5B1051.10<\/td>\n",
       "      <td>Success<\/td>\n",
       "      <td>9 May 2021<\/td>\n",
       "      <td>06:42<\/td>\n",
       "    <\/tr>\n",
       "    <tr>\n",
       "      <th>117<\/th>\n",
       "      <td>118<\/td>\n",
       "      <td>KSC<\/td>\n",
       "      <td>Starlink<\/td>\n",
       "      <td>~14,000 kg<\/td>\n",
       "      <td>LEO<\/td>\n",
       "      <td>SpaceX<\/td>\n",
       "      <td>Success\\n<\/td>\n",
       "      <td>F9 B5B1058.8<\/td>\n",
       "      <td>Success<\/td>\n",
       "      <td>15 May 2021<\/td>\n",
       "      <td>22:56<\/td>\n",
       "    <\/tr>\n",
       "    <tr>\n",
       "      <th>118<\/th>\n",
       "      <td>119<\/td>\n",
       "      <td>CCSFS<\/td>\n",
       "      <td>Starlink<\/td>\n",
       "      <td>15,600 kg<\/td>\n",
       "      <td>LEO<\/td>\n",
       "      <td>SpaceX<\/td>\n",
       "      <td>Success\\n<\/td>\n",
       "      <td>F9 B5B1063.2<\/td>\n",
       "      <td>Success<\/td>\n",
       "      <td>26 May 2021<\/td>\n",
       "      <td>18:59<\/td>\n",
       "    <\/tr>\n",
       "    <tr>\n",
       "      <th>119<\/th>\n",
       "      <td>120<\/td>\n",
       "      <td>KSC<\/td>\n",
       "      <td>SpaceX CRS-22<\/td>\n",
       "      <td>3,328 kg<\/td>\n",
       "      <td>LEO<\/td>\n",
       "      <td>NASA<\/td>\n",
       "      <td>Success\\n<\/td>\n",
       "      <td>F9 B5B1067.1<\/td>\n",
       "      <td>Success<\/td>\n",
       "      <td>3 June 2021<\/td>\n",
       "      <td>17:29<\/td>\n",
       "    <\/tr>\n",
       "    <tr>\n",
       "      <th>120<\/th>\n",
       "      <td>121<\/td>\n",
       "      <td>CCSFS<\/td>\n",
       "      <td>SXM-8<\/td>\n",
       "      <td>7,000 kg<\/td>\n",
       "      <td>GTO<\/td>\n",
       "      <td>Sirius XM<\/td>\n",
       "      <td>Success\\n<\/td>\n",
       "      <td>F9 B5<\/td>\n",
       "      <td>Success<\/td>\n",
       "      <td>6 June 2021<\/td>\n",
       "      <td>04:26<\/td>\n",
       "    <\/tr>\n",
       "  <\/tbody>\n",
       "<\/table>\n",
       "<p>121 rows × 11 columns<\/p>\n",
       "<\/div>"
      ]
     },
     "metadata":{
      
     },
     "output_type":"display_data"
    }
   ],
   "metadata":{
    "datalore":{
     "type":"CODE",
     "hide_input_from_viewers":false,
     "hide_output_from_viewers":false
    }
   }
  },
  {
   "cell_type":"markdown",
   "source":[
    "We can now export it to a <b>CSV<\/b> for the next section, but to make the answers consistent and in case you have difficulties finishing this lab.\n",
    "\n",
    "Following labs will be using a provided dataset to make each lab independent."
   ],
   "attachments":{
    
   },
   "metadata":{
    "datalore":{
     "type":"MD",
     "hide_input_from_viewers":false,
     "hide_output_from_viewers":false
    }
   }
  },
  {
   "cell_type":"markdown",
   "source":[
    "<code>df.to_csv('spacex_web_scraped.csv', index=False)<\/code>"
   ],
   "attachments":{
    
   },
   "metadata":{
    "datalore":{
     "type":"MD",
     "hide_input_from_viewers":false,
     "hide_output_from_viewers":false
    }
   }
  },
  {
   "cell_type":"code",
   "source":[
    "df.to_csv('spacex_web_scraped.csv', index=False)"
   ],
   "execution_count":16,
   "outputs":[
    
   ],
   "metadata":{
    "datalore":{
     "type":"CODE",
     "hide_input_from_viewers":false,
     "hide_output_from_viewers":false
    }
   }
  },
  {
   "cell_type":"markdown",
   "source":[
    "## Authors"
   ],
   "attachments":{
    
   },
   "metadata":{
    "datalore":{
     "type":"MD",
     "hide_input_from_viewers":false,
     "hide_output_from_viewers":false
    }
   }
  },
  {
   "cell_type":"markdown",
   "source":[
    "<a href=\"https:\/\/www.linkedin.com\/in\/yan-luo-96288783\/?utm_medium=Exinfluencer&utm_source=Exinfluencer&utm_content=000026UJ&utm_term=10006555&utm_id=NA-SkillsNetwork-Channel-SkillsNetworkCoursesIBMDS0321ENSkillsNetwork26802033-2021-01-01\">Yan Luo<\/a>"
   ],
   "attachments":{
    
   },
   "metadata":{
    "datalore":{
     "type":"MD",
     "hide_input_from_viewers":false,
     "hide_output_from_viewers":false
    }
   }
  },
  {
   "cell_type":"markdown",
   "source":[
    "<a href=\"https:\/\/www.linkedin.com\/in\/nayefaboutayoun\/?utm_medium=Exinfluencer&utm_source=Exinfluencer&utm_content=000026UJ&utm_term=10006555&utm_id=NA-SkillsNetwork-Channel-SkillsNetworkCoursesIBMDS0321ENSkillsNetwork26802033-2021-01-01\">Nayef Abou Tayoun<\/a>"
   ],
   "attachments":{
    
   },
   "metadata":{
    "datalore":{
     "type":"MD",
     "hide_input_from_viewers":false,
     "hide_output_from_viewers":false
    }
   }
  },
  {
   "cell_type":"markdown",
   "source":[
    "## Change Log"
   ],
   "attachments":{
    
   },
   "metadata":{
    "datalore":{
     "type":"MD",
     "hide_input_from_viewers":false,
     "hide_output_from_viewers":false
    }
   }
  },
  {
   "cell_type":"markdown",
   "source":[
    "| Date (YYYY-MM-DD) | Version | Changed By | Change Description          |\n",
    "| ----------------- | ------- | ---------- | --------------------------- |\n",
    "| 2021-06-09        | 1.0     | Yan Luo    | Tasks updates               |\n",
    "| 2020-11-10        | 1.0     | Nayef      | Created the initial version |"
   ],
   "attachments":{
    
   },
   "metadata":{
    "datalore":{
     "type":"MD",
     "hide_input_from_viewers":false,
     "hide_output_from_viewers":false
    }
   }
  },
  {
   "cell_type":"markdown",
   "source":[
    "Copyright © 2021 IBM Corporation. All rights reserved."
   ],
   "attachments":{
    
   },
   "metadata":{
    "datalore":{
     "type":"MD",
     "hide_input_from_viewers":false,
     "hide_output_from_viewers":false
    }
   }
  }
 ],
 "metadata":{
  "datalore":{
   "version":1,
   "computation_mode":"JUPYTER",
   "package_manager":"pip",
   "base_environment":"default",
   "packages":[
    
   ]
  }
 },
 "nbformat":4,
 "nbformat_minor":4
}